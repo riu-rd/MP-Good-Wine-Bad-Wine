{
  "nbformat": 4,
  "nbformat_minor": 0,
  "metadata": {
    "colab": {
      "provenance": []
    },
    "kernelspec": {
      "name": "python3",
      "display_name": "Python 3"
    },
    "language_info": {
      "name": "python"
    }
  },
  "cells": [
    {
      "cell_type": "markdown",
      "source": [
        "# Wine Connoisseurs: Darius Ardales, Joshua Balcueva\n",
        "# CSMODEL - S12"
      ],
      "metadata": {
        "id": "__KphWBfMez-"
      }
    },
    {
      "cell_type": "markdown",
      "source": [
        "#Dataset Description\n",
        "\n",
        "The two datasets used in this notebook are related to red and white variants of the Portuguese “Vinho Verde” wine. For more details, consult: http://www.vinhoverde.pt/en/ or the reference [Cortez et al., 2009]. Due to privacy and logistic issues, only physicochemical (inputs) and sensory (the output) variables are available (e.g. there is no data about grape types, wine brand, wine selling price, etc.).\n",
        "\n",
        "The data was collected with the help of R Data Mining and several other data mining methods using a regression approach. The support vector machine model produced the best results.\n",
        "\n",
        "The datasets were created using red and white wine samples. The data collected comprise of inputs on objectives tests (e.g. PH values), and the output is based on sensory data that was evaluated by atleast 3 wine experts. Each expert graded the wine quality from 0 (very bad) to 10 (excellent).\n",
        "\n"
      ],
      "metadata": {
        "id": "kbwwoK1-0SNA"
      }
    },
    {
      "cell_type": "markdown",
      "source": [
        "# *pandas* and *matplotlib*\n",
        "\n",
        "* **`pandas`** is a software library for Python that is designed for data manipulation and data analysis. \n",
        "* **`matplotlib`** is a software libary for data visualization, which allows us to easily render various types of graphs. "
      ],
      "metadata": {
        "id": "CGs5XE84-kuU"
      }
    },
    {
      "cell_type": "code",
      "source": [
        "import numpy as np\n",
        "import pandas as pd\n",
        "import matplotlib.pyplot as plt\n",
        "\n",
        "# sets the theme of the charts\n",
        "plt.style.use('seaborn-darkgrid')\n",
        "\n",
        "%pylab inline"
      ],
      "metadata": {
        "colab": {
          "base_uri": "https://localhost:8080/"
        },
        "id": "cs7EUQAg2ZyS",
        "outputId": "1600e8e9-c21c-447c-f028-86d42cb96f7e"
      },
      "execution_count": 33,
      "outputs": [
        {
          "output_type": "stream",
          "name": "stdout",
          "text": [
            "Populating the interactive namespace from numpy and matplotlib\n"
          ]
        },
        {
          "output_type": "stream",
          "name": "stderr",
          "text": [
            "<ipython-input-33-37ca202fa028>:6: MatplotlibDeprecationWarning: The seaborn styles shipped by Matplotlib are deprecated since 3.6, as they no longer correspond to the styles shipped by seaborn. However, they will remain available as 'seaborn-v0_8-<style>'. Alternatively, directly use the seaborn API instead.\n",
            "  plt.style.use('seaborn-darkgrid')\n"
          ]
        }
      ]
    },
    {
      "cell_type": "markdown",
      "source": [
        "# Reading The Dataset\n",
        "> Each row in the dataset represents an observation of wine. Each column in the dataset represents the physicochemical test (e.g. pH Level, Alcohol) output for each observation, then it's respective quality which is rated by wine experts.\n",
        "*   There are 1599 observations for red wine, and 4898 observations for white wine\n",
        "*   The datasets will be combined and will have a total of 6497 rows and 13 columns\n",
        "> Both datasets use the same 13 variables. The first 12 variables are the physicochemical properties (inputs) of each wine and and the 13th is their respective quality\n",
        "1.   **color** - the most easily recognizable characteristics of wines, heavy wines generally have a deeper color\n",
        "1.   **fixed acidity** - most acids involved with wine or fixed or nonvolatile (do not evaporate readily)\n",
        "2.   **volatile acidity** - the amount of acetic acid in wine, which at too high of levels can lead to an unpleasant, vinegar taste\n",
        "1.   **citric acid** - found in small quantities, citric acid can add ‘freshness’ and flavor to wines\n",
        "2.   **residual sugar** -  the amount of sugar remaining after fermentation stops, it’s rare to find wines with less than 1 gram/liter and wines with greater than 45 grams/liter are considered sweet\n",
        "1.   **chlorides** -  the amount of salt in the wine\n",
        "1.   **free sulfur dioxide** - the free form of SO2 exists in equilibrium between molecular SO2 (as a dissolved gas) and bisulfite ion; it prevents microbial growth and the oxidation of wine\n",
        "2.   **total sulfur dioxide** - amount of free and bound forms of S02; in low concentrations, SO2 is mostly undetectable in wine, but at free SO2 concentrations over 50 ppm, SO2 becomes evident in the nose and taste of wine\n",
        "1.   **density** -  the density of water is close to that of water depending on the percent alcohol and sugar content\n",
        "1.   **pH** - describes how acidic or basic a wine is on a scale from 0 (very acidic) to 14 (very basic); most wines are between 3-4 on the pH scale\n",
        "2.   **sulphates** - a wine additive which can contribute to sulfur dioxide gas (S02) levels, wich acts as an antimicrobial and antioxidant\n",
        "1.   **alcohol** - the percent alcohol content of the wine\n",
        "2.   **quality** - based on the rating of the wine experts, a score between 0 and 10\n",
        "\n"
      ],
      "metadata": {
        "id": "VLh-nvq7_luk"
      }
    },
    {
      "cell_type": "code",
      "source": [
        "red_df = pd.read_csv('wineQualityReds.csv')\n",
        "red_df.shape"
      ],
      "metadata": {
        "colab": {
          "base_uri": "https://localhost:8080/"
        },
        "id": "tn0bxyy4_khs",
        "outputId": "31758263-e402-499c-acf7-dbb27690adc3"
      },
      "execution_count": 34,
      "outputs": [
        {
          "output_type": "execute_result",
          "data": {
            "text/plain": [
              "(1599, 13)"
            ]
          },
          "metadata": {},
          "execution_count": 34
        }
      ]
    },
    {
      "cell_type": "code",
      "source": [
        "white_df = pd.read_csv('wineQualityWhites.csv')\n",
        "white_df.shape"
      ],
      "metadata": {
        "colab": {
          "base_uri": "https://localhost:8080/"
        },
        "id": "Mb6grXw9AmgS",
        "outputId": "ab7098a1-db4a-4e55-f8e3-f6faacc0d049"
      },
      "execution_count": 35,
      "outputs": [
        {
          "output_type": "execute_result",
          "data": {
            "text/plain": [
              "(4898, 13)"
            ]
          },
          "metadata": {},
          "execution_count": 35
        }
      ]
    },
    {
      "cell_type": "code",
      "source": [
        "#merge red wine and white wine dataframe\n",
        "merge_df = pd.concat([red_df, white_df])\n",
        "merge_df.info()"
      ],
      "metadata": {
        "colab": {
          "base_uri": "https://localhost:8080/"
        },
        "id": "CS8YtHGkC1a-",
        "outputId": "dd3c0e95-b3c0-448a-9df8-959385337151"
      },
      "execution_count": 36,
      "outputs": [
        {
          "output_type": "stream",
          "name": "stdout",
          "text": [
            "<class 'pandas.core.frame.DataFrame'>\n",
            "Int64Index: 6497 entries, 0 to 4897\n",
            "Data columns (total 13 columns):\n",
            " #   Column                Non-Null Count  Dtype  \n",
            "---  ------                --------------  -----  \n",
            " 0   color                 6497 non-null   object \n",
            " 1   fixed acidity         6497 non-null   float64\n",
            " 2   volatile acidity      6497 non-null   float64\n",
            " 3   citric acid           6497 non-null   float64\n",
            " 4   residual sugar        6497 non-null   float64\n",
            " 5   chlorides             6497 non-null   float64\n",
            " 6   free sulfur dioxide   6497 non-null   float64\n",
            " 7   total sulfur dioxide  6497 non-null   float64\n",
            " 8   density               6497 non-null   float64\n",
            " 9   pH                    6497 non-null   float64\n",
            " 10  sulphates             6497 non-null   float64\n",
            " 11  alcohol               6497 non-null   float64\n",
            " 12  quality               6497 non-null   int64  \n",
            "dtypes: float64(11), int64(1), object(1)\n",
            "memory usage: 710.6+ KB\n"
          ]
        }
      ]
    },
    {
      "cell_type": "markdown",
      "source": [
        "\n",
        "\n",
        "# Data Cleaning\n"
      ],
      "metadata": {
        "id": "2w8ZiK2eKB8Z"
      }
    },
    {
      "cell_type": "code",
      "source": [
        "# Check the unique categorical values of color\n",
        "color = merge_df['color'].unique()\n",
        "print(color)"
      ],
      "metadata": {
        "id": "3e_Mi0e9KMv_",
        "colab": {
          "base_uri": "https://localhost:8080/"
        },
        "outputId": "89962ca4-1637-44d4-d612-936a3687685f"
      },
      "execution_count": 37,
      "outputs": [
        {
          "output_type": "stream",
          "name": "stdout",
          "text": [
            "['red' 'white']\n"
          ]
        }
      ]
    },
    {
      "cell_type": "markdown",
      "source": [
        "No multiple representations of the same categorical value has been found as there are no other colors than red and white. Other values are non-categorical."
      ],
      "metadata": {
        "id": "pCIzLKv0h2EK"
      }
    },
    {
      "cell_type": "code",
      "source": [
        "# To review the data types of each variable\n",
        "merge_df.info()"
      ],
      "metadata": {
        "colab": {
          "base_uri": "https://localhost:8080/"
        },
        "id": "hvHc4Ea332AV",
        "outputId": "170eace1-ee47-4dcc-f805-529172305140"
      },
      "execution_count": 38,
      "outputs": [
        {
          "output_type": "stream",
          "name": "stdout",
          "text": [
            "<class 'pandas.core.frame.DataFrame'>\n",
            "Int64Index: 6497 entries, 0 to 4897\n",
            "Data columns (total 13 columns):\n",
            " #   Column                Non-Null Count  Dtype  \n",
            "---  ------                --------------  -----  \n",
            " 0   color                 6497 non-null   object \n",
            " 1   fixed acidity         6497 non-null   float64\n",
            " 2   volatile acidity      6497 non-null   float64\n",
            " 3   citric acid           6497 non-null   float64\n",
            " 4   residual sugar        6497 non-null   float64\n",
            " 5   chlorides             6497 non-null   float64\n",
            " 6   free sulfur dioxide   6497 non-null   float64\n",
            " 7   total sulfur dioxide  6497 non-null   float64\n",
            " 8   density               6497 non-null   float64\n",
            " 9   pH                    6497 non-null   float64\n",
            " 10  sulphates             6497 non-null   float64\n",
            " 11  alcohol               6497 non-null   float64\n",
            " 12  quality               6497 non-null   int64  \n",
            "dtypes: float64(11), int64(1), object(1)\n",
            "memory usage: 710.6+ KB\n"
          ]
        }
      ]
    },
    {
      "cell_type": "markdown",
      "source": [
        "All datatypes are correct."
      ],
      "metadata": {
        "id": "iBGUXyNyiFZ4"
      }
    },
    {
      "cell_type": "code",
      "source": [
        "# Check if there are null values in the dataset\n",
        "checkNull = merge_df.isnull().any()\n",
        "print(checkNull)"
      ],
      "metadata": {
        "colab": {
          "base_uri": "https://localhost:8080/"
        },
        "id": "52GnnsGQ3fTN",
        "outputId": "ae954a5f-31e8-4936-c60e-b6c2b0093bfc"
      },
      "execution_count": 39,
      "outputs": [
        {
          "output_type": "stream",
          "name": "stdout",
          "text": [
            "color                   False\n",
            "fixed acidity           False\n",
            "volatile acidity        False\n",
            "citric acid             False\n",
            "residual sugar          False\n",
            "chlorides               False\n",
            "free sulfur dioxide     False\n",
            "total sulfur dioxide    False\n",
            "density                 False\n",
            "pH                      False\n",
            "sulphates               False\n",
            "alcohol                 False\n",
            "quality                 False\n",
            "dtype: bool\n"
          ]
        }
      ]
    },
    {
      "cell_type": "markdown",
      "source": [
        "No NaN values has been found."
      ],
      "metadata": {
        "id": "k85dHJk8h6g6"
      }
    },
    {
      "cell_type": "code",
      "source": [
        "# Check if there are duplicated rows\n",
        "checkDup1 = merge_df.duplicated().any()\n",
        "print(\"Before dropping duplicates: \", checkDup1)\n",
        "# Drop the duplicates\n",
        "wine_df = merge_df.drop_duplicates()\n",
        "checkDup2 = wine_df.duplicated().any()\n",
        "print(\"After dropping duplicates: \",checkDup2)"
      ],
      "metadata": {
        "colab": {
          "base_uri": "https://localhost:8080/"
        },
        "id": "a860mgwR48xI",
        "outputId": "0ae66a83-d33e-4e4f-c1fd-39c0f5ec98c6"
      },
      "execution_count": 40,
      "outputs": [
        {
          "output_type": "stream",
          "name": "stdout",
          "text": [
            "Before dropping duplicates:  True\n",
            "After dropping duplicates:  False\n"
          ]
        }
      ]
    },
    {
      "cell_type": "markdown",
      "source": [
        "There are duplicate data, therefore the duplicates will be dropped."
      ],
      "metadata": {
        "id": "eiIBkVz7iCLf"
      }
    },
    {
      "cell_type": "code",
      "source": [
        "wine_df.info()"
      ],
      "metadata": {
        "colab": {
          "base_uri": "https://localhost:8080/"
        },
        "id": "75aOzTe7PhId",
        "outputId": "91390745-90ba-4fe4-db34-00f9cad85c63"
      },
      "execution_count": 41,
      "outputs": [
        {
          "output_type": "stream",
          "name": "stdout",
          "text": [
            "<class 'pandas.core.frame.DataFrame'>\n",
            "Int64Index: 5320 entries, 0 to 4897\n",
            "Data columns (total 13 columns):\n",
            " #   Column                Non-Null Count  Dtype  \n",
            "---  ------                --------------  -----  \n",
            " 0   color                 5320 non-null   object \n",
            " 1   fixed acidity         5320 non-null   float64\n",
            " 2   volatile acidity      5320 non-null   float64\n",
            " 3   citric acid           5320 non-null   float64\n",
            " 4   residual sugar        5320 non-null   float64\n",
            " 5   chlorides             5320 non-null   float64\n",
            " 6   free sulfur dioxide   5320 non-null   float64\n",
            " 7   total sulfur dioxide  5320 non-null   float64\n",
            " 8   density               5320 non-null   float64\n",
            " 9   pH                    5320 non-null   float64\n",
            " 10  sulphates             5320 non-null   float64\n",
            " 11  alcohol               5320 non-null   float64\n",
            " 12  quality               5320 non-null   int64  \n",
            "dtypes: float64(11), int64(1), object(1)\n",
            "memory usage: 581.9+ KB\n"
          ]
        }
      ]
    },
    {
      "cell_type": "markdown",
      "source": [
        "**After cleaning the merged dataset, 5320 observation remain**"
      ],
      "metadata": {
        "id": "u2scA1tWQVlt"
      }
    },
    {
      "cell_type": "markdown",
      "source": [
        "# Exploratory Data Analysis\n"
      ],
      "metadata": {
        "id": "7VPaF3aWUYFp"
      }
    },
    {
      "cell_type": "markdown",
      "source": [
        "Based on the dataset, each variable describes the physicochemical measurements of each wine observation. However, the quality variable, is based on sensory data that was evaluated by atleast 3 wine experts. The quality variable serves as the output that is based on the input physicochemical measurements. Thus, there is a need for the quality variable to be expounded further."
      ],
      "metadata": {
        "id": "vw8V-MoAbKdI"
      }
    },
    {
      "cell_type": "markdown",
      "source": [
        "### Question 1: Which kind of wine has the higher average quality grading?"
      ],
      "metadata": {
        "id": "RbeQXF1YrT1R"
      }
    },
    {
      "cell_type": "code",
      "source": [
        "mean_df = wine_df.groupby(\"color\").agg({\"quality\": [\"mean\", \"std\"]})\n",
        "mean_df.sort_values((\"quality\", \"mean\"), ascending=False)"
      ],
      "metadata": {
        "colab": {
          "base_uri": "https://localhost:8080/",
          "height": 175
        },
        "id": "87GbnBEArmdk",
        "outputId": "b4586eff-c077-40d7-9c69-4fe1bd74a0a0"
      },
      "execution_count": 42,
      "outputs": [
        {
          "output_type": "execute_result",
          "data": {
            "text/plain": [
              "        quality          \n",
              "           mean       std\n",
              "color                    \n",
              "white  5.854835  0.890683\n",
              "red    5.623252  0.823578"
            ],
            "text/html": [
              "\n",
              "  <div id=\"df-692e1c81-b918-4370-818b-9ed7610cd8cc\">\n",
              "    <div class=\"colab-df-container\">\n",
              "      <div>\n",
              "<style scoped>\n",
              "    .dataframe tbody tr th:only-of-type {\n",
              "        vertical-align: middle;\n",
              "    }\n",
              "\n",
              "    .dataframe tbody tr th {\n",
              "        vertical-align: top;\n",
              "    }\n",
              "\n",
              "    .dataframe thead tr th {\n",
              "        text-align: left;\n",
              "    }\n",
              "\n",
              "    .dataframe thead tr:last-of-type th {\n",
              "        text-align: right;\n",
              "    }\n",
              "</style>\n",
              "<table border=\"1\" class=\"dataframe\">\n",
              "  <thead>\n",
              "    <tr>\n",
              "      <th></th>\n",
              "      <th colspan=\"2\" halign=\"left\">quality</th>\n",
              "    </tr>\n",
              "    <tr>\n",
              "      <th></th>\n",
              "      <th>mean</th>\n",
              "      <th>std</th>\n",
              "    </tr>\n",
              "    <tr>\n",
              "      <th>color</th>\n",
              "      <th></th>\n",
              "      <th></th>\n",
              "    </tr>\n",
              "  </thead>\n",
              "  <tbody>\n",
              "    <tr>\n",
              "      <th>white</th>\n",
              "      <td>5.854835</td>\n",
              "      <td>0.890683</td>\n",
              "    </tr>\n",
              "    <tr>\n",
              "      <th>red</th>\n",
              "      <td>5.623252</td>\n",
              "      <td>0.823578</td>\n",
              "    </tr>\n",
              "  </tbody>\n",
              "</table>\n",
              "</div>\n",
              "      <button class=\"colab-df-convert\" onclick=\"convertToInteractive('df-692e1c81-b918-4370-818b-9ed7610cd8cc')\"\n",
              "              title=\"Convert this dataframe to an interactive table.\"\n",
              "              style=\"display:none;\">\n",
              "        \n",
              "  <svg xmlns=\"http://www.w3.org/2000/svg\" height=\"24px\"viewBox=\"0 0 24 24\"\n",
              "       width=\"24px\">\n",
              "    <path d=\"M0 0h24v24H0V0z\" fill=\"none\"/>\n",
              "    <path d=\"M18.56 5.44l.94 2.06.94-2.06 2.06-.94-2.06-.94-.94-2.06-.94 2.06-2.06.94zm-11 1L8.5 8.5l.94-2.06 2.06-.94-2.06-.94L8.5 2.5l-.94 2.06-2.06.94zm10 10l.94 2.06.94-2.06 2.06-.94-2.06-.94-.94-2.06-.94 2.06-2.06.94z\"/><path d=\"M17.41 7.96l-1.37-1.37c-.4-.4-.92-.59-1.43-.59-.52 0-1.04.2-1.43.59L10.3 9.45l-7.72 7.72c-.78.78-.78 2.05 0 2.83L4 21.41c.39.39.9.59 1.41.59.51 0 1.02-.2 1.41-.59l7.78-7.78 2.81-2.81c.8-.78.8-2.07 0-2.86zM5.41 20L4 18.59l7.72-7.72 1.47 1.35L5.41 20z\"/>\n",
              "  </svg>\n",
              "      </button>\n",
              "      \n",
              "  <style>\n",
              "    .colab-df-container {\n",
              "      display:flex;\n",
              "      flex-wrap:wrap;\n",
              "      gap: 12px;\n",
              "    }\n",
              "\n",
              "    .colab-df-convert {\n",
              "      background-color: #E8F0FE;\n",
              "      border: none;\n",
              "      border-radius: 50%;\n",
              "      cursor: pointer;\n",
              "      display: none;\n",
              "      fill: #1967D2;\n",
              "      height: 32px;\n",
              "      padding: 0 0 0 0;\n",
              "      width: 32px;\n",
              "    }\n",
              "\n",
              "    .colab-df-convert:hover {\n",
              "      background-color: #E2EBFA;\n",
              "      box-shadow: 0px 1px 2px rgba(60, 64, 67, 0.3), 0px 1px 3px 1px rgba(60, 64, 67, 0.15);\n",
              "      fill: #174EA6;\n",
              "    }\n",
              "\n",
              "    [theme=dark] .colab-df-convert {\n",
              "      background-color: #3B4455;\n",
              "      fill: #D2E3FC;\n",
              "    }\n",
              "\n",
              "    [theme=dark] .colab-df-convert:hover {\n",
              "      background-color: #434B5C;\n",
              "      box-shadow: 0px 1px 3px 1px rgba(0, 0, 0, 0.15);\n",
              "      filter: drop-shadow(0px 1px 2px rgba(0, 0, 0, 0.3));\n",
              "      fill: #FFFFFF;\n",
              "    }\n",
              "  </style>\n",
              "\n",
              "      <script>\n",
              "        const buttonEl =\n",
              "          document.querySelector('#df-692e1c81-b918-4370-818b-9ed7610cd8cc button.colab-df-convert');\n",
              "        buttonEl.style.display =\n",
              "          google.colab.kernel.accessAllowed ? 'block' : 'none';\n",
              "\n",
              "        async function convertToInteractive(key) {\n",
              "          const element = document.querySelector('#df-692e1c81-b918-4370-818b-9ed7610cd8cc');\n",
              "          const dataTable =\n",
              "            await google.colab.kernel.invokeFunction('convertToInteractive',\n",
              "                                                     [key], {});\n",
              "          if (!dataTable) return;\n",
              "\n",
              "          const docLinkHtml = 'Like what you see? Visit the ' +\n",
              "            '<a target=\"_blank\" href=https://colab.research.google.com/notebooks/data_table.ipynb>data table notebook</a>'\n",
              "            + ' to learn more about interactive tables.';\n",
              "          element.innerHTML = '';\n",
              "          dataTable['output_type'] = 'display_data';\n",
              "          await google.colab.output.renderOutput(dataTable, element);\n",
              "          const docLink = document.createElement('div');\n",
              "          docLink.innerHTML = docLinkHtml;\n",
              "          element.appendChild(docLink);\n",
              "        }\n",
              "      </script>\n",
              "    </div>\n",
              "  </div>\n",
              "  "
            ]
          },
          "metadata": {},
          "execution_count": 42
        }
      ]
    },
    {
      "cell_type": "code",
      "source": [
        "wine_df.boxplot(\"quality\", by=\"color\", figsize=(5, 5))\n",
        "plt.show()"
      ],
      "metadata": {
        "colab": {
          "base_uri": "https://localhost:8080/",
          "height": 490
        },
        "id": "BMOiQmvFt8Xo",
        "outputId": "6b4d458c-db4d-4529-eee7-790b7b59f6c1"
      },
      "execution_count": 43,
      "outputs": [
        {
          "output_type": "display_data",
          "data": {
            "text/plain": [
              "<Figure size 500x500 with 1 Axes>"
            ],
            "image/png": "[encoded data removed]"
          },
          "metadata": {}
        }
      ]
    },
    {
      "cell_type": "markdown",
      "source": [
        "As seen above, the mean and standard deviations of both the red and the white wine are almost similar. However, white wine provides the higher average quality grading."
      ],
      "metadata": {
        "id": "x3iCCmzc0afC"
      }
    },
    {
      "cell_type": "markdown",
      "source": [
        "### Question 2: Does the dataset follow a normal distribution curve based on the quality of each wine?"
      ],
      "metadata": {
        "id": "6hUIQQtmczv0"
      }
    },
    {
      "cell_type": "code",
      "source": [
        "# Explore the variable 'quality'\n",
        "quality_info = wine_df['quality'].describe()\n",
        "print(quality_info)"
      ],
      "metadata": {
        "id": "Ppz9u4kRUmO0",
        "colab": {
          "base_uri": "https://localhost:8080/"
        },
        "outputId": "14e71a61-bf99-4e0d-e46d-ab1aa51e8421"
      },
      "execution_count": 44,
      "outputs": [
        {
          "output_type": "stream",
          "name": "stdout",
          "text": [
            "count    5320.000000\n",
            "mean        5.795677\n",
            "std         0.879772\n",
            "min         3.000000\n",
            "25%         5.000000\n",
            "50%         6.000000\n",
            "75%         6.000000\n",
            "max         9.000000\n",
            "Name: quality, dtype: float64\n"
          ]
        }
      ]
    },
    {
      "cell_type": "markdown",
      "source": [
        "Even though the wine quality ranges from 0 (very bad) to 10 (excellent), it can be seen that the minimum quality grading would be 3 and the maximum quality grading would be 9. With an average grade of 5.79. Looking at the mean and the std, it can be inferred here that the quality grading that occurs the most would be close to 5.79."
      ],
      "metadata": {
        "id": "siSjDv_JD1i3"
      }
    },
    {
      "cell_type": "code",
      "source": [
        "# Group the data by \"color and quality\", and count the occurrences for each unique \n",
        "# \"color and quality\" using \".size()\"\n",
        "# The index name will be set to count\n",
        "groups = wine_df.groupby(['color', 'quality']).size().reset_index(name='count')\n",
        "# separate the counts by color based on its quality\n",
        "pivot = groups.pivot(index='quality', columns='color', values='count')\n",
        "# display using a stacked bar graph\n",
        "pivot.plot(kind='bar', stacked=True)\n",
        "plt.xlabel('Quality')\n",
        "plt.ylabel('Count')\n",
        "plt.title('Quality vs Count by Color')\n",
        "\n",
        "plt.show()"
      ],
      "metadata": {
        "colab": {
          "base_uri": "https://localhost:8080/",
          "height": 459
        },
        "id": "V36MWqD4BHhE",
        "outputId": "ca73c71d-9dcb-4360-f353-34a739046fd1"
      },
      "execution_count": 45,
      "outputs": [
        {
          "output_type": "display_data",
          "data": {
            "text/plain": [
              "<Figure size 640x480 with 1 Axes>"
            ],
            "image/png": "[encoded data removed]"
          },
          "metadata": {}
        }
      ]
    },
    {
      "cell_type": "markdown",
      "source": [
        "The stacked bar graph for the quality vs count by color shows that both red and white wines follow a normal distribution curve with quality gradings 5 and 6 being the highest for both colors."
      ],
      "metadata": {
        "id": "Hww9emAl82Nx"
      }
    },
    {
      "cell_type": "markdown",
      "source": [
        "### Question 3: Which variable has the highest correlation towards quality?"
      ],
      "metadata": {
        "id": "zIptQlMif3Yn"
      }
    },
    {
      "cell_type": "code",
      "source": [
        "# Get the correlation of each variable to quality\n",
        "wine_corr = wine_df.corr()['quality']\n",
        "print(wine_corr)"
      ],
      "metadata": {
        "colab": {
          "base_uri": "https://localhost:8080/"
        },
        "id": "4YzbkqmNHNCv",
        "outputId": "88ec86c3-3437-429f-9373-9414db428ef9"
      },
      "execution_count": 46,
      "outputs": [
        {
          "output_type": "stream",
          "name": "stdout",
          "text": [
            "fixed acidity          -0.080092\n",
            "volatile acidity       -0.265205\n",
            "citric acid             0.097954\n",
            "residual sugar         -0.056830\n",
            "chlorides              -0.202137\n",
            "free sulfur dioxide     0.054002\n",
            "total sulfur dioxide   -0.050296\n",
            "density                -0.326434\n",
            "pH                      0.039733\n",
            "sulphates               0.041884\n",
            "alcohol                 0.469422\n",
            "quality                 1.000000\n",
            "Name: quality, dtype: float64\n"
          ]
        },
        {
          "output_type": "stream",
          "name": "stderr",
          "text": [
            "<ipython-input-46-0f2d1909ed7a>:2: FutureWarning: The default value of numeric_only in DataFrame.corr is deprecated. In a future version, it will default to False. Select only valid columns or specify the value of numeric_only to silence this warning.\n",
            "  wine_corr = wine_df.corr()['quality']\n"
          ]
        }
      ]
    },
    {
      "cell_type": "markdown",
      "source": [
        "The series above shows all of the correlations of quality towards all of the numerical variables in the dataset."
      ],
      "metadata": {
        "id": "wxzWwHvxisla"
      }
    },
    {
      "cell_type": "code",
      "source": [
        "# Get the variable with the maximum correlation to quality\n",
        "wine_corr = wine_corr.drop('quality')\n",
        "max_corr = wine_corr.idxmax()\n",
        "print(\"Highest correlation: \", max_corr)"
      ],
      "metadata": {
        "colab": {
          "base_uri": "https://localhost:8080/"
        },
        "id": "wWJcN2nsV1J7",
        "outputId": "7fec027e-588e-4769-a0df-7ab783627626"
      },
      "execution_count": 47,
      "outputs": [
        {
          "output_type": "stream",
          "name": "stdout",
          "text": [
            "Highest correlation:  alcohol\n"
          ]
        }
      ]
    },
    {
      "cell_type": "markdown",
      "source": [
        "The finding above states that alcohol level has the highest correlation towards wine quality."
      ],
      "metadata": {
        "id": "mq-DhNkj1Zl2"
      }
    },
    {
      "cell_type": "code",
      "source": [
        "# Scatter plot for Quality vs Alcohol level\n",
        "wine_df.plot.scatter(x='quality', y='alcohol', alpha=0.5)\n",
        "plt.title('Relationship of Quality and Alcohol Level')"
      ],
      "metadata": {
        "colab": {
          "base_uri": "https://localhost:8080/",
          "height": 482
        },
        "id": "c5FzDWJSjnRL",
        "outputId": "f61f3e44-c738-42ea-c77a-383f33faadf1"
      },
      "execution_count": 48,
      "outputs": [
        {
          "output_type": "execute_result",
          "data": {
            "text/plain": [
              "Text(0.5, 1.0, 'Relationship of Quality and Alcohol Level')"
            ]
          },
          "metadata": {},
          "execution_count": 48
        },
        {
          "output_type": "display_data",
          "data": {
            "text/plain": [
              "<Figure size 640x480 with 1 Axes>"
            ],
            "image/png": "[encoded data removed]"
          },
          "metadata": {}
        }
      ]
    },
    {
      "cell_type": "markdown",
      "source": [
        "As seen in the scatter plot above for the relationship of quality and alcohol level, there is a positive correlation between quality and alcohol level."
      ],
      "metadata": {
        "id": "N5vR_dbZj9QX"
      }
    },
    {
      "cell_type": "markdown",
      "source": [
        "### Question 4: Which color has the higher average alcohol level?"
      ],
      "metadata": {
        "id": "m470lRAHf9eV"
      }
    },
    {
      "cell_type": "code",
      "source": [
        "mean_df = wine_df.groupby(\"color\").agg({\"alcohol\": [\"mean\", \"std\"]})\n",
        "mean_df.sort_values((\"alcohol\", \"mean\"), ascending=False)"
      ],
      "metadata": {
        "colab": {
          "base_uri": "https://localhost:8080/",
          "height": 175
        },
        "id": "V-deuUIa3sNX",
        "outputId": "71306dd1-bfc6-4851-dd38-ea8348ce2a13"
      },
      "execution_count": 49,
      "outputs": [
        {
          "output_type": "execute_result",
          "data": {
            "text/plain": [
              "         alcohol          \n",
              "            mean       std\n",
              "color                     \n",
              "white  10.589358  1.217076\n",
              "red    10.432315  1.082065"
            ],
            "text/html": [
              "\n",
              "  <div id=\"df-790506b6-f9e9-406d-958b-e7c8149927c7\">\n",
              "    <div class=\"colab-df-container\">\n",
              "      <div>\n",
              "<style scoped>\n",
              "    .dataframe tbody tr th:only-of-type {\n",
              "        vertical-align: middle;\n",
              "    }\n",
              "\n",
              "    .dataframe tbody tr th {\n",
              "        vertical-align: top;\n",
              "    }\n",
              "\n",
              "    .dataframe thead tr th {\n",
              "        text-align: left;\n",
              "    }\n",
              "\n",
              "    .dataframe thead tr:last-of-type th {\n",
              "        text-align: right;\n",
              "    }\n",
              "</style>\n",
              "<table border=\"1\" class=\"dataframe\">\n",
              "  <thead>\n",
              "    <tr>\n",
              "      <th></th>\n",
              "      <th colspan=\"2\" halign=\"left\">alcohol</th>\n",
              "    </tr>\n",
              "    <tr>\n",
              "      <th></th>\n",
              "      <th>mean</th>\n",
              "      <th>std</th>\n",
              "    </tr>\n",
              "    <tr>\n",
              "      <th>color</th>\n",
              "      <th></th>\n",
              "      <th></th>\n",
              "    </tr>\n",
              "  </thead>\n",
              "  <tbody>\n",
              "    <tr>\n",
              "      <th>white</th>\n",
              "      <td>10.589358</td>\n",
              "      <td>1.217076</td>\n",
              "    </tr>\n",
              "    <tr>\n",
              "      <th>red</th>\n",
              "      <td>10.432315</td>\n",
              "      <td>1.082065</td>\n",
              "    </tr>\n",
              "  </tbody>\n",
              "</table>\n",
              "</div>\n",
              "      <button class=\"colab-df-convert\" onclick=\"convertToInteractive('df-790506b6-f9e9-406d-958b-e7c8149927c7')\"\n",
              "              title=\"Convert this dataframe to an interactive table.\"\n",
              "              style=\"display:none;\">\n",
              "        \n",
              "  <svg xmlns=\"http://www.w3.org/2000/svg\" height=\"24px\"viewBox=\"0 0 24 24\"\n",
              "       width=\"24px\">\n",
              "    <path d=\"M0 0h24v24H0V0z\" fill=\"none\"/>\n",
              "    <path d=\"M18.56 5.44l.94 2.06.94-2.06 2.06-.94-2.06-.94-.94-2.06-.94 2.06-2.06.94zm-11 1L8.5 8.5l.94-2.06 2.06-.94-2.06-.94L8.5 2.5l-.94 2.06-2.06.94zm10 10l.94 2.06.94-2.06 2.06-.94-2.06-.94-.94-2.06-.94 2.06-2.06.94z\"/><path d=\"M17.41 7.96l-1.37-1.37c-.4-.4-.92-.59-1.43-.59-.52 0-1.04.2-1.43.59L10.3 9.45l-7.72 7.72c-.78.78-.78 2.05 0 2.83L4 21.41c.39.39.9.59 1.41.59.51 0 1.02-.2 1.41-.59l7.78-7.78 2.81-2.81c.8-.78.8-2.07 0-2.86zM5.41 20L4 18.59l7.72-7.72 1.47 1.35L5.41 20z\"/>\n",
              "  </svg>\n",
              "      </button>\n",
              "      \n",
              "  <style>\n",
              "    .colab-df-container {\n",
              "      display:flex;\n",
              "      flex-wrap:wrap;\n",
              "      gap: 12px;\n",
              "    }\n",
              "\n",
              "    .colab-df-convert {\n",
              "      background-color: #E8F0FE;\n",
              "      border: none;\n",
              "      border-radius: 50%;\n",
              "      cursor: pointer;\n",
              "      display: none;\n",
              "      fill: #1967D2;\n",
              "      height: 32px;\n",
              "      padding: 0 0 0 0;\n",
              "      width: 32px;\n",
              "    }\n",
              "\n",
              "    .colab-df-convert:hover {\n",
              "      background-color: #E2EBFA;\n",
              "      box-shadow: 0px 1px 2px rgba(60, 64, 67, 0.3), 0px 1px 3px 1px rgba(60, 64, 67, 0.15);\n",
              "      fill: #174EA6;\n",
              "    }\n",
              "\n",
              "    [theme=dark] .colab-df-convert {\n",
              "      background-color: #3B4455;\n",
              "      fill: #D2E3FC;\n",
              "    }\n",
              "\n",
              "    [theme=dark] .colab-df-convert:hover {\n",
              "      background-color: #434B5C;\n",
              "      box-shadow: 0px 1px 3px 1px rgba(0, 0, 0, 0.15);\n",
              "      filter: drop-shadow(0px 1px 2px rgba(0, 0, 0, 0.3));\n",
              "      fill: #FFFFFF;\n",
              "    }\n",
              "  </style>\n",
              "\n",
              "      <script>\n",
              "        const buttonEl =\n",
              "          document.querySelector('#df-790506b6-f9e9-406d-958b-e7c8149927c7 button.colab-df-convert');\n",
              "        buttonEl.style.display =\n",
              "          google.colab.kernel.accessAllowed ? 'block' : 'none';\n",
              "\n",
              "        async function convertToInteractive(key) {\n",
              "          const element = document.querySelector('#df-790506b6-f9e9-406d-958b-e7c8149927c7');\n",
              "          const dataTable =\n",
              "            await google.colab.kernel.invokeFunction('convertToInteractive',\n",
              "                                                     [key], {});\n",
              "          if (!dataTable) return;\n",
              "\n",
              "          const docLinkHtml = 'Like what you see? Visit the ' +\n",
              "            '<a target=\"_blank\" href=https://colab.research.google.com/notebooks/data_table.ipynb>data table notebook</a>'\n",
              "            + ' to learn more about interactive tables.';\n",
              "          element.innerHTML = '';\n",
              "          dataTable['output_type'] = 'display_data';\n",
              "          await google.colab.output.renderOutput(dataTable, element);\n",
              "          const docLink = document.createElement('div');\n",
              "          docLink.innerHTML = docLinkHtml;\n",
              "          element.appendChild(docLink);\n",
              "        }\n",
              "      </script>\n",
              "    </div>\n",
              "  </div>\n",
              "  "
            ]
          },
          "metadata": {},
          "execution_count": 49
        }
      ]
    },
    {
      "cell_type": "code",
      "source": [
        "wine_df.boxplot(\"alcohol\", by=\"color\", figsize=(5, 5))\n",
        "plt.show()"
      ],
      "metadata": {
        "colab": {
          "base_uri": "https://localhost:8080/",
          "height": 490
        },
        "id": "Rg3uzk3eJyu4",
        "outputId": "fc505c79-73c7-4991-91f7-157e5fe3c280"
      },
      "execution_count": 50,
      "outputs": [
        {
          "output_type": "display_data",
          "data": {
            "text/plain": [
              "<Figure size 500x500 with 1 Axes>"
            ],
            "image/png": "[encoded data removed]"
          },
          "metadata": {}
        }
      ]
    },
    {
      "cell_type": "markdown",
      "source": [
        "As can be seen in the findings above, white wine has a higher average alcohol level than red wine. With white wine having 10.58 while red wine having 10.43. Furthermore, white wine also has a higher upper quartile than red wine."
      ],
      "metadata": {
        "id": "KT7T2aZx_5Zy"
      }
    },
    {
      "cell_type": "markdown",
      "source": [
        "### Question 5: Which variable has the lowest correlation towards quality?"
      ],
      "metadata": {
        "id": "mGRBX6FzBMTS"
      }
    },
    {
      "cell_type": "code",
      "source": [
        "# Get the variable with the minimum correlation to quality\n",
        "min_corr = wine_corr.idxmin()\n",
        "print(\"Lowest correlation: \", min_corr)"
      ],
      "metadata": {
        "colab": {
          "base_uri": "https://localhost:8080/"
        },
        "id": "cLpJnB8KBLgu",
        "outputId": "948fc3d0-4946-4d64-f04f-c7af8f51a9e3"
      },
      "execution_count": 51,
      "outputs": [
        {
          "output_type": "stream",
          "name": "stdout",
          "text": [
            "Lowest correlation:  density\n"
          ]
        }
      ]
    },
    {
      "cell_type": "code",
      "source": [
        "# Scatter plot for Quality vs Density\n",
        "wine_df.plot.scatter(x='quality', y='density', alpha=0.5)\n",
        "plt.title('Relationship of Quality and Density')"
      ],
      "metadata": {
        "colab": {
          "base_uri": "https://localhost:8080/",
          "height": 482
        },
        "id": "mJP-8DP0CGz3",
        "outputId": "388ad3cd-94fa-4e44-9f39-18f49ecdad97"
      },
      "execution_count": 52,
      "outputs": [
        {
          "output_type": "execute_result",
          "data": {
            "text/plain": [
              "Text(0.5, 1.0, 'Relationship of Quality and Density')"
            ]
          },
          "metadata": {},
          "execution_count": 52
        },
        {
          "output_type": "display_data",
          "data": {
            "text/plain": [
              "<Figure size 640x480 with 1 Axes>"
            ],
            "image/png": "[encoded data removed]"
          },
          "metadata": {}
        }
      ]
    },
    {
      "cell_type": "markdown",
      "source": [
        "As seen in the scatter plot above for the relationship of quality and density, there is a negative correlation between quality and density."
      ],
      "metadata": {
        "id": "o9aAuOESCY7e"
      }
    },
    {
      "cell_type": "markdown",
      "source": [
        "### Question 6: Which color has the higher average density?"
      ],
      "metadata": {
        "id": "DUTgOvYbBODc"
      }
    },
    {
      "cell_type": "code",
      "source": [
        "mean_df = wine_df.groupby(\"color\").agg({\"density\": [\"mean\", \"std\"]})\n",
        "mean_df.sort_values((\"density\", \"mean\"), ascending=False)"
      ],
      "metadata": {
        "colab": {
          "base_uri": "https://localhost:8080/",
          "height": 175
        },
        "id": "1da3XG8XDNH6",
        "outputId": "af8ea0a4-a9a5-44dc-90aa-35c2aa295f42"
      },
      "execution_count": 53,
      "outputs": [
        {
          "output_type": "execute_result",
          "data": {
            "text/plain": [
              "        density          \n",
              "           mean       std\n",
              "color                    \n",
              "red    0.996709  0.001869\n",
              "white  0.993790  0.002905"
            ],
            "text/html": [
              "\n",
              "  <div id=\"df-12a33d54-2e9b-4f91-8ea7-35658fc70712\">\n",
              "    <div class=\"colab-df-container\">\n",
              "      <div>\n",
              "<style scoped>\n",
              "    .dataframe tbody tr th:only-of-type {\n",
              "        vertical-align: middle;\n",
              "    }\n",
              "\n",
              "    .dataframe tbody tr th {\n",
              "        vertical-align: top;\n",
              "    }\n",
              "\n",
              "    .dataframe thead tr th {\n",
              "        text-align: left;\n",
              "    }\n",
              "\n",
              "    .dataframe thead tr:last-of-type th {\n",
              "        text-align: right;\n",
              "    }\n",
              "</style>\n",
              "<table border=\"1\" class=\"dataframe\">\n",
              "  <thead>\n",
              "    <tr>\n",
              "      <th></th>\n",
              "      <th colspan=\"2\" halign=\"left\">density</th>\n",
              "    </tr>\n",
              "    <tr>\n",
              "      <th></th>\n",
              "      <th>mean</th>\n",
              "      <th>std</th>\n",
              "    </tr>\n",
              "    <tr>\n",
              "      <th>color</th>\n",
              "      <th></th>\n",
              "      <th></th>\n",
              "    </tr>\n",
              "  </thead>\n",
              "  <tbody>\n",
              "    <tr>\n",
              "      <th>red</th>\n",
              "      <td>0.996709</td>\n",
              "      <td>0.001869</td>\n",
              "    </tr>\n",
              "    <tr>\n",
              "      <th>white</th>\n",
              "      <td>0.993790</td>\n",
              "      <td>0.002905</td>\n",
              "    </tr>\n",
              "  </tbody>\n",
              "</table>\n",
              "</div>\n",
              "      <button class=\"colab-df-convert\" onclick=\"convertToInteractive('df-12a33d54-2e9b-4f91-8ea7-35658fc70712')\"\n",
              "              title=\"Convert this dataframe to an interactive table.\"\n",
              "              style=\"display:none;\">\n",
              "        \n",
              "  <svg xmlns=\"http://www.w3.org/2000/svg\" height=\"24px\"viewBox=\"0 0 24 24\"\n",
              "       width=\"24px\">\n",
              "    <path d=\"M0 0h24v24H0V0z\" fill=\"none\"/>\n",
              "    <path d=\"M18.56 5.44l.94 2.06.94-2.06 2.06-.94-2.06-.94-.94-2.06-.94 2.06-2.06.94zm-11 1L8.5 8.5l.94-2.06 2.06-.94-2.06-.94L8.5 2.5l-.94 2.06-2.06.94zm10 10l.94 2.06.94-2.06 2.06-.94-2.06-.94-.94-2.06-.94 2.06-2.06.94z\"/><path d=\"M17.41 7.96l-1.37-1.37c-.4-.4-.92-.59-1.43-.59-.52 0-1.04.2-1.43.59L10.3 9.45l-7.72 7.72c-.78.78-.78 2.05 0 2.83L4 21.41c.39.39.9.59 1.41.59.51 0 1.02-.2 1.41-.59l7.78-7.78 2.81-2.81c.8-.78.8-2.07 0-2.86zM5.41 20L4 18.59l7.72-7.72 1.47 1.35L5.41 20z\"/>\n",
              "  </svg>\n",
              "      </button>\n",
              "      \n",
              "  <style>\n",
              "    .colab-df-container {\n",
              "      display:flex;\n",
              "      flex-wrap:wrap;\n",
              "      gap: 12px;\n",
              "    }\n",
              "\n",
              "    .colab-df-convert {\n",
              "      background-color: #E8F0FE;\n",
              "      border: none;\n",
              "      border-radius: 50%;\n",
              "      cursor: pointer;\n",
              "      display: none;\n",
              "      fill: #1967D2;\n",
              "      height: 32px;\n",
              "      padding: 0 0 0 0;\n",
              "      width: 32px;\n",
              "    }\n",
              "\n",
              "    .colab-df-convert:hover {\n",
              "      background-color: #E2EBFA;\n",
              "      box-shadow: 0px 1px 2px rgba(60, 64, 67, 0.3), 0px 1px 3px 1px rgba(60, 64, 67, 0.15);\n",
              "      fill: #174EA6;\n",
              "    }\n",
              "\n",
              "    [theme=dark] .colab-df-convert {\n",
              "      background-color: #3B4455;\n",
              "      fill: #D2E3FC;\n",
              "    }\n",
              "\n",
              "    [theme=dark] .colab-df-convert:hover {\n",
              "      background-color: #434B5C;\n",
              "      box-shadow: 0px 1px 3px 1px rgba(0, 0, 0, 0.15);\n",
              "      filter: drop-shadow(0px 1px 2px rgba(0, 0, 0, 0.3));\n",
              "      fill: #FFFFFF;\n",
              "    }\n",
              "  </style>\n",
              "\n",
              "      <script>\n",
              "        const buttonEl =\n",
              "          document.querySelector('#df-12a33d54-2e9b-4f91-8ea7-35658fc70712 button.colab-df-convert');\n",
              "        buttonEl.style.display =\n",
              "          google.colab.kernel.accessAllowed ? 'block' : 'none';\n",
              "\n",
              "        async function convertToInteractive(key) {\n",
              "          const element = document.querySelector('#df-12a33d54-2e9b-4f91-8ea7-35658fc70712');\n",
              "          const dataTable =\n",
              "            await google.colab.kernel.invokeFunction('convertToInteractive',\n",
              "                                                     [key], {});\n",
              "          if (!dataTable) return;\n",
              "\n",
              "          const docLinkHtml = 'Like what you see? Visit the ' +\n",
              "            '<a target=\"_blank\" href=https://colab.research.google.com/notebooks/data_table.ipynb>data table notebook</a>'\n",
              "            + ' to learn more about interactive tables.';\n",
              "          element.innerHTML = '';\n",
              "          dataTable['output_type'] = 'display_data';\n",
              "          await google.colab.output.renderOutput(dataTable, element);\n",
              "          const docLink = document.createElement('div');\n",
              "          docLink.innerHTML = docLinkHtml;\n",
              "          element.appendChild(docLink);\n",
              "        }\n",
              "      </script>\n",
              "    </div>\n",
              "  </div>\n",
              "  "
            ]
          },
          "metadata": {},
          "execution_count": 53
        }
      ]
    },
    {
      "cell_type": "code",
      "source": [
        "wine_df.boxplot(\"density\", by=\"color\", figsize=(8, 8))\n",
        "plt.show()"
      ],
      "metadata": {
        "colab": {
          "base_uri": "https://localhost:8080/",
          "height": 739
        },
        "id": "vhytwNmVEKzo",
        "outputId": "4b7901dd-da0d-419e-e565-4f6778fb432e"
      },
      "execution_count": 54,
      "outputs": [
        {
          "output_type": "display_data",
          "data": {
            "text/plain": [
              "<Figure size 800x800 with 1 Axes>"
            ],
            "image/png": "[encoded data removed]"
          },
          "metadata": {}
        }
      ]
    },
    {
      "cell_type": "markdown",
      "source": [
        "As can be seen in the findings above, red wine has a higher average density than white wine. With red wine having 0.996 while white wine having 0.993. Furthermore, red wine also has a higher upper quartile than white wine."
      ],
      "metadata": {
        "id": "vubjl2XKEaBh"
      }
    },
    {
      "cell_type": "markdown",
      "source": [
        "# Research Question\n",
        "**Is there a statistical difference in quality between red wine and white wine?**\n",
        "\n",
        "\n"
      ],
      "metadata": {
        "id": "n0mVBAXsUuOs"
      }
    },
    {
      "cell_type": "markdown",
      "source": [
        "*Relation to the Research Question*\n",
        "> Based on the dataset, the quality of the wine is determined from all the physicochemical tests before it (e.g. pH level, density, alcohol level). By exploring and finding the correlation between each variable, we will be able to determine how it affects the quality of the wine. \n",
        "\n",
        "> Furthermore, through analyzing the visual representations of the correlations between the different variables and quality, it is shown that white wine would be more likely to receive a higher rating than red wine. However there is no statistical proof to support this claim. Therefore, the research question aims to discover if there is a statistical difference in quality between red wine and white wine.\n",
        "\n",
        "*Scope of The Research Question*\n",
        "> The research question is within the scope of dataset because it uses and involves all the data in the dataset. There is no data that is unutilized.\n",
        "\n",
        "*Importance and Significance of the Research Question*\n",
        "> The research question is both important and significant because it lets the company know which of their products is better so that they strategically promote it and get more customers. It also lets them know if they should further develop or manufacture the product.\n",
        "\n",
        "\n",
        "\n",
        "\n",
        "\n",
        "\n",
        "\n"
      ],
      "metadata": {
        "id": "nIbjBBYPGY9r"
      }
    },
    {
      "cell_type": "markdown",
      "source": [
        "# Data Modelling\n",
        "### Pre-processing - Removing outliers\n",
        "Removing outliers to avoid statistical inaccuracy in the results, as well as prevent the creation of clusters with less than the required amount of observations."
      ],
      "metadata": {
        "id": "th9fGoAPfUf0"
      }
    },
    {
      "cell_type": "code",
      "source": [
        "from scipy import stats\n",
        "\n",
        "# Create a new dataframe with only the numeric columns\n",
        "numcols = wine_df.select_dtypes(include=[np.number]).columns.tolist()\n",
        "num_df = wine_df[numcols]\n",
        "\n",
        "# Remove outliers using Z-score method\n",
        "z_scores = stats.zscore(num_df)\n",
        "abs_z_scores = np.abs(z_scores)\n",
        "filtered_entries = (abs_z_scores < 3).all(axis=1)\n",
        "filtered_df = wine_df[filtered_entries]\n",
        "filtered_df"
      ],
      "metadata": {
        "colab": {
          "base_uri": "https://localhost:8080/",
          "height": 485
        },
        "id": "-Qi41-biRGWU",
        "outputId": "b3742d00-3847-4a69-cb15-411e9b6b99db"
      },
      "execution_count": 55,
      "outputs": [
        {
          "output_type": "execute_result",
          "data": {
            "text/plain": [
              "      color  fixed acidity  volatile acidity  citric acid  residual sugar  \\\n",
              "0       red            7.4              0.70         0.00             1.9   \n",
              "2       red            7.8              0.76         0.04             2.3   \n",
              "5       red            7.4              0.66         0.00             1.8   \n",
              "6       red            7.9              0.60         0.06             1.6   \n",
              "7       red            7.3              0.65         0.00             1.2   \n",
              "...     ...            ...               ...          ...             ...   \n",
              "4893  white            6.2              0.21         0.29             1.6   \n",
              "4894  white            6.6              0.32         0.36             8.0   \n",
              "4895  white            6.5              0.24         0.19             1.2   \n",
              "4896  white            5.5              0.29         0.30             1.1   \n",
              "4897  white            6.0              0.21         0.38             0.8   \n",
              "\n",
              "      chlorides  free sulfur dioxide  total sulfur dioxide  density    pH  \\\n",
              "0         0.076                 11.0                  34.0  0.99780  3.51   \n",
              "2         0.092                 15.0                  54.0  0.99700  3.26   \n",
              "5         0.075                 13.0                  40.0  0.99780  3.51   \n",
              "6         0.069                 15.0                  59.0  0.99640  3.30   \n",
              "7         0.065                 15.0                  21.0  0.99460  3.39   \n",
              "...         ...                  ...                   ...      ...   ...   \n",
              "4893      0.039                 24.0                  92.0  0.99114  3.27   \n",
              "4894      0.047                 57.0                 168.0  0.99490  3.15   \n",
              "4895      0.041                 30.0                 111.0  0.99254  2.99   \n",
              "4896      0.022                 20.0                 110.0  0.98869  3.34   \n",
              "4897      0.020                 22.0                  98.0  0.98941  3.26   \n",
              "\n",
              "      sulphates  alcohol  quality  \n",
              "0          0.56      9.4        5  \n",
              "2          0.65      9.8        5  \n",
              "5          0.56      9.4        5  \n",
              "6          0.46      9.4        5  \n",
              "7          0.47     10.0        7  \n",
              "...         ...      ...      ...  \n",
              "4893       0.50     11.2        6  \n",
              "4894       0.46      9.6        5  \n",
              "4895       0.46      9.4        6  \n",
              "4896       0.38     12.8        7  \n",
              "4897       0.32     11.8        6  \n",
              "\n",
              "[4869 rows x 13 columns]"
            ],
            "text/html": [
              "\n",
              "  <div id=\"df-579f7214-8836-4d78-a8b7-6be801e5da0c\">\n",
              "    <div class=\"colab-df-container\">\n",
              "      <div>\n",
              "<style scoped>\n",
              "    .dataframe tbody tr th:only-of-type {\n",
              "        vertical-align: middle;\n",
              "    }\n",
              "\n",
              "    .dataframe tbody tr th {\n",
              "        vertical-align: top;\n",
              "    }\n",
              "\n",
              "    .dataframe thead th {\n",
              "        text-align: right;\n",
              "    }\n",
              "</style>\n",
              "<table border=\"1\" class=\"dataframe\">\n",
              "  <thead>\n",
              "    <tr style=\"text-align: right;\">\n",
              "      <th></th>\n",
              "      <th>color</th>\n",
              "      <th>fixed acidity</th>\n",
              "      <th>volatile acidity</th>\n",
              "      <th>citric acid</th>\n",
              "      <th>residual sugar</th>\n",
              "      <th>chlorides</th>\n",
              "      <th>free sulfur dioxide</th>\n",
              "      <th>total sulfur dioxide</th>\n",
              "      <th>density</th>\n",
              "      <th>pH</th>\n",
              "      <th>sulphates</th>\n",
              "      <th>alcohol</th>\n",
              "      <th>quality</th>\n",
              "    </tr>\n",
              "  </thead>\n",
              "  <tbody>\n",
              "    <tr>\n",
              "      <th>0</th>\n",
              "      <td>red</td>\n",
              "      <td>7.4</td>\n",
              "      <td>0.70</td>\n",
              "      <td>0.00</td>\n",
              "      <td>1.9</td>\n",
              "      <td>0.076</td>\n",
              "      <td>11.0</td>\n",
              "      <td>34.0</td>\n",
              "      <td>0.99780</td>\n",
              "      <td>3.51</td>\n",
              "      <td>0.56</td>\n",
              "      <td>9.4</td>\n",
              "      <td>5</td>\n",
              "    </tr>\n",
              "    <tr>\n",
              "      <th>2</th>\n",
              "      <td>red</td>\n",
              "      <td>7.8</td>\n",
              "      <td>0.76</td>\n",
              "      <td>0.04</td>\n",
              "      <td>2.3</td>\n",
              "      <td>0.092</td>\n",
              "      <td>15.0</td>\n",
              "      <td>54.0</td>\n",
              "      <td>0.99700</td>\n",
              "      <td>3.26</td>\n",
              "      <td>0.65</td>\n",
              "      <td>9.8</td>\n",
              "      <td>5</td>\n",
              "    </tr>\n",
              "    <tr>\n",
              "      <th>5</th>\n",
              "      <td>red</td>\n",
              "      <td>7.4</td>\n",
              "      <td>0.66</td>\n",
              "      <td>0.00</td>\n",
              "      <td>1.8</td>\n",
              "      <td>0.075</td>\n",
              "      <td>13.0</td>\n",
              "      <td>40.0</td>\n",
              "      <td>0.99780</td>\n",
              "      <td>3.51</td>\n",
              "      <td>0.56</td>\n",
              "      <td>9.4</td>\n",
              "      <td>5</td>\n",
              "    </tr>\n",
              "    <tr>\n",
              "      <th>6</th>\n",
              "      <td>red</td>\n",
              "      <td>7.9</td>\n",
              "      <td>0.60</td>\n",
              "      <td>0.06</td>\n",
              "      <td>1.6</td>\n",
              "      <td>0.069</td>\n",
              "      <td>15.0</td>\n",
              "      <td>59.0</td>\n",
              "      <td>0.99640</td>\n",
              "      <td>3.30</td>\n",
              "      <td>0.46</td>\n",
              "      <td>9.4</td>\n",
              "      <td>5</td>\n",
              "    </tr>\n",
              "    <tr>\n",
              "      <th>7</th>\n",
              "      <td>red</td>\n",
              "      <td>7.3</td>\n",
              "      <td>0.65</td>\n",
              "      <td>0.00</td>\n",
              "      <td>1.2</td>\n",
              "      <td>0.065</td>\n",
              "      <td>15.0</td>\n",
              "      <td>21.0</td>\n",
              "      <td>0.99460</td>\n",
              "      <td>3.39</td>\n",
              "      <td>0.47</td>\n",
              "      <td>10.0</td>\n",
              "      <td>7</td>\n",
              "    </tr>\n",
              "    <tr>\n",
              "      <th>...</th>\n",
              "      <td>...</td>\n",
              "      <td>...</td>\n",
              "      <td>...</td>\n",
              "      <td>...</td>\n",
              "      <td>...</td>\n",
              "      <td>...</td>\n",
              "      <td>...</td>\n",
              "      <td>...</td>\n",
              "      <td>...</td>\n",
              "      <td>...</td>\n",
              "      <td>...</td>\n",
              "      <td>...</td>\n",
              "      <td>...</td>\n",
              "    </tr>\n",
              "    <tr>\n",
              "      <th>4893</th>\n",
              "      <td>white</td>\n",
              "      <td>6.2</td>\n",
              "      <td>0.21</td>\n",
              "      <td>0.29</td>\n",
              "      <td>1.6</td>\n",
              "      <td>0.039</td>\n",
              "      <td>24.0</td>\n",
              "      <td>92.0</td>\n",
              "      <td>0.99114</td>\n",
              "      <td>3.27</td>\n",
              "      <td>0.50</td>\n",
              "      <td>11.2</td>\n",
              "      <td>6</td>\n",
              "    </tr>\n",
              "    <tr>\n",
              "      <th>4894</th>\n",
              "      <td>white</td>\n",
              "      <td>6.6</td>\n",
              "      <td>0.32</td>\n",
              "      <td>0.36</td>\n",
              "      <td>8.0</td>\n",
              "      <td>0.047</td>\n",
              "      <td>57.0</td>\n",
              "      <td>168.0</td>\n",
              "      <td>0.99490</td>\n",
              "      <td>3.15</td>\n",
              "      <td>0.46</td>\n",
              "      <td>9.6</td>\n",
              "      <td>5</td>\n",
              "    </tr>\n",
              "    <tr>\n",
              "      <th>4895</th>\n",
              "      <td>white</td>\n",
              "      <td>6.5</td>\n",
              "      <td>0.24</td>\n",
              "      <td>0.19</td>\n",
              "      <td>1.2</td>\n",
              "      <td>0.041</td>\n",
              "      <td>30.0</td>\n",
              "      <td>111.0</td>\n",
              "      <td>0.99254</td>\n",
              "      <td>2.99</td>\n",
              "      <td>0.46</td>\n",
              "      <td>9.4</td>\n",
              "      <td>6</td>\n",
              "    </tr>\n",
              "    <tr>\n",
              "      <th>4896</th>\n",
              "      <td>white</td>\n",
              "      <td>5.5</td>\n",
              "      <td>0.29</td>\n",
              "      <td>0.30</td>\n",
              "      <td>1.1</td>\n",
              "      <td>0.022</td>\n",
              "      <td>20.0</td>\n",
              "      <td>110.0</td>\n",
              "      <td>0.98869</td>\n",
              "      <td>3.34</td>\n",
              "      <td>0.38</td>\n",
              "      <td>12.8</td>\n",
              "      <td>7</td>\n",
              "    </tr>\n",
              "    <tr>\n",
              "      <th>4897</th>\n",
              "      <td>white</td>\n",
              "      <td>6.0</td>\n",
              "      <td>0.21</td>\n",
              "      <td>0.38</td>\n",
              "      <td>0.8</td>\n",
              "      <td>0.020</td>\n",
              "      <td>22.0</td>\n",
              "      <td>98.0</td>\n",
              "      <td>0.98941</td>\n",
              "      <td>3.26</td>\n",
              "      <td>0.32</td>\n",
              "      <td>11.8</td>\n",
              "      <td>6</td>\n",
              "    </tr>\n",
              "  </tbody>\n",
              "</table>\n",
              "<p>4869 rows × 13 columns</p>\n",
              "</div>\n",
              "      <button class=\"colab-df-convert\" onclick=\"convertToInteractive('df-579f7214-8836-4d78-a8b7-6be801e5da0c')\"\n",
              "              title=\"Convert this dataframe to an interactive table.\"\n",
              "              style=\"display:none;\">\n",
              "        \n",
              "  <svg xmlns=\"http://www.w3.org/2000/svg\" height=\"24px\"viewBox=\"0 0 24 24\"\n",
              "       width=\"24px\">\n",
              "    <path d=\"M0 0h24v24H0V0z\" fill=\"none\"/>\n",
              "    <path d=\"M18.56 5.44l.94 2.06.94-2.06 2.06-.94-2.06-.94-.94-2.06-.94 2.06-2.06.94zm-11 1L8.5 8.5l.94-2.06 2.06-.94-2.06-.94L8.5 2.5l-.94 2.06-2.06.94zm10 10l.94 2.06.94-2.06 2.06-.94-2.06-.94-.94-2.06-.94 2.06-2.06.94z\"/><path d=\"M17.41 7.96l-1.37-1.37c-.4-.4-.92-.59-1.43-.59-.52 0-1.04.2-1.43.59L10.3 9.45l-7.72 7.72c-.78.78-.78 2.05 0 2.83L4 21.41c.39.39.9.59 1.41.59.51 0 1.02-.2 1.41-.59l7.78-7.78 2.81-2.81c.8-.78.8-2.07 0-2.86zM5.41 20L4 18.59l7.72-7.72 1.47 1.35L5.41 20z\"/>\n",
              "  </svg>\n",
              "      </button>\n",
              "      \n",
              "  <style>\n",
              "    .colab-df-container {\n",
              "      display:flex;\n",
              "      flex-wrap:wrap;\n",
              "      gap: 12px;\n",
              "    }\n",
              "\n",
              "    .colab-df-convert {\n",
              "      background-color: #E8F0FE;\n",
              "      border: none;\n",
              "      border-radius: 50%;\n",
              "      cursor: pointer;\n",
              "      display: none;\n",
              "      fill: #1967D2;\n",
              "      height: 32px;\n",
              "      padding: 0 0 0 0;\n",
              "      width: 32px;\n",
              "    }\n",
              "\n",
              "    .colab-df-convert:hover {\n",
              "      background-color: #E2EBFA;\n",
              "      box-shadow: 0px 1px 2px rgba(60, 64, 67, 0.3), 0px 1px 3px 1px rgba(60, 64, 67, 0.15);\n",
              "      fill: #174EA6;\n",
              "    }\n",
              "\n",
              "    [theme=dark] .colab-df-convert {\n",
              "      background-color: #3B4455;\n",
              "      fill: #D2E3FC;\n",
              "    }\n",
              "\n",
              "    [theme=dark] .colab-df-convert:hover {\n",
              "      background-color: #434B5C;\n",
              "      box-shadow: 0px 1px 3px 1px rgba(0, 0, 0, 0.15);\n",
              "      filter: drop-shadow(0px 1px 2px rgba(0, 0, 0, 0.3));\n",
              "      fill: #FFFFFF;\n",
              "    }\n",
              "  </style>\n",
              "\n",
              "      <script>\n",
              "        const buttonEl =\n",
              "          document.querySelector('#df-579f7214-8836-4d78-a8b7-6be801e5da0c button.colab-df-convert');\n",
              "        buttonEl.style.display =\n",
              "          google.colab.kernel.accessAllowed ? 'block' : 'none';\n",
              "\n",
              "        async function convertToInteractive(key) {\n",
              "          const element = document.querySelector('#df-579f7214-8836-4d78-a8b7-6be801e5da0c');\n",
              "          const dataTable =\n",
              "            await google.colab.kernel.invokeFunction('convertToInteractive',\n",
              "                                                     [key], {});\n",
              "          if (!dataTable) return;\n",
              "\n",
              "          const docLinkHtml = 'Like what you see? Visit the ' +\n",
              "            '<a target=\"_blank\" href=https://colab.research.google.com/notebooks/data_table.ipynb>data table notebook</a>'\n",
              "            + ' to learn more about interactive tables.';\n",
              "          element.innerHTML = '';\n",
              "          dataTable['output_type'] = 'display_data';\n",
              "          await google.colab.output.renderOutput(dataTable, element);\n",
              "          const docLink = document.createElement('div');\n",
              "          docLink.innerHTML = docLinkHtml;\n",
              "          element.appendChild(docLink);\n",
              "        }\n",
              "      </script>\n",
              "    </div>\n",
              "  </div>\n",
              "  "
            ]
          },
          "metadata": {},
          "execution_count": 55
        }
      ]
    },
    {
      "cell_type": "markdown",
      "source": [
        "### Pre-processing - Min Max Normalization\n",
        "It will scale the data between 0 and 1 and help normalize the data."
      ],
      "metadata": {
        "id": "5qWh5Hahzlpo"
      }
    },
    {
      "cell_type": "code",
      "source": [
        "# Library that can perform normalization on a dataframe\n",
        "from sklearn.preprocessing import MinMaxScaler\n",
        "\n",
        "# columns to normalize (not including color so start with 1)\n",
        "col_normalize = filtered_df.columns[1:]\n",
        "\n",
        "# use minmax scaler to normalize the dataset\n",
        "scaler = MinMaxScaler()\n",
        "filtered_df[col_normalize] = scaler.fit_transform(filtered_df[col_normalize])\n",
        "\n",
        "filtered_df = filtered_df.reset_index()\n",
        "filtered_df = filtered_df.drop(columns=['index'])\n",
        "filtered_df"
      ],
      "metadata": {
        "colab": {
          "base_uri": "https://localhost:8080/",
          "height": 606
        },
        "id": "2UzNyDP_1kLm",
        "outputId": "35e9e4ac-8745-447e-a5f5-1f2dc2f4b38e"
      },
      "execution_count": 56,
      "outputs": [
        {
          "output_type": "stream",
          "name": "stderr",
          "text": [
            "<ipython-input-56-6fffcf0e918c>:9: SettingWithCopyWarning: \n",
            "A value is trying to be set on a copy of a slice from a DataFrame.\n",
            "Try using .loc[row_indexer,col_indexer] = value instead\n",
            "\n",
            "See the caveats in the documentation: https://pandas.pydata.org/pandas-docs/stable/user_guide/indexing.html#returning-a-view-versus-a-copy\n",
            "  filtered_df[col_normalize] = scaler.fit_transform(filtered_df[col_normalize])\n"
          ]
        },
        {
          "output_type": "execute_result",
          "data": {
            "text/plain": [
              "      color  fixed acidity  volatile acidity  citric acid  residual sugar  \\\n",
              "0       red       0.486111          0.810458     0.000000        0.072626   \n",
              "1       red       0.541667          0.888889     0.054054        0.094972   \n",
              "2       red       0.486111          0.758170     0.000000        0.067039   \n",
              "3       red       0.555556          0.679739     0.081081        0.055866   \n",
              "4       red       0.472222          0.745098     0.000000        0.033520   \n",
              "...     ...            ...               ...          ...             ...   \n",
              "4864  white       0.319444          0.169935     0.391892        0.055866   \n",
              "4865  white       0.375000          0.313725     0.486486        0.413408   \n",
              "4866  white       0.361111          0.209150     0.256757        0.033520   \n",
              "4867  white       0.222222          0.274510     0.405405        0.027933   \n",
              "4868  white       0.291667          0.169935     0.513514        0.011173   \n",
              "\n",
              "      chlorides  free sulfur dioxide  total sulfur dioxide   density  \\\n",
              "0      0.424051             0.121951              0.101449  0.690123   \n",
              "1      0.525316             0.170732              0.173913  0.638476   \n",
              "2      0.417722             0.146341              0.123188  0.690123   \n",
              "3      0.379747             0.170732              0.192029  0.599742   \n",
              "4      0.354430             0.170732              0.054348  0.483538   \n",
              "...         ...                  ...                   ...       ...   \n",
              "4864   0.189873             0.280488              0.311594  0.260168   \n",
              "4865   0.240506             0.682927              0.586957  0.502905   \n",
              "4866   0.202532             0.353659              0.380435  0.350549   \n",
              "4867   0.082278             0.231707              0.376812  0.102001   \n",
              "4868   0.069620             0.256098              0.333333  0.148483   \n",
              "\n",
              "            pH  sulphates   alcohol  quality  \n",
              "0     0.795699   0.447368  0.176991     0.25  \n",
              "1     0.526882   0.565789  0.247788     0.25  \n",
              "2     0.795699   0.447368  0.176991     0.25  \n",
              "3     0.569892   0.315789  0.176991     0.25  \n",
              "4     0.666667   0.328947  0.283186     0.75  \n",
              "...        ...        ...       ...      ...  \n",
              "4864  0.537634   0.368421  0.495575     0.50  \n",
              "4865  0.408602   0.315789  0.212389     0.25  \n",
              "4866  0.236559   0.315789  0.176991     0.50  \n",
              "4867  0.612903   0.210526  0.778761     0.75  \n",
              "4868  0.526882   0.131579  0.601770     0.50  \n",
              "\n",
              "[4869 rows x 13 columns]"
            ],
            "text/html": [
              "\n",
              "  <div id=\"df-83007368-d7bf-4ff5-97c1-6968d14db4fc\">\n",
              "    <div class=\"colab-df-container\">\n",
              "      <div>\n",
              "<style scoped>\n",
              "    .dataframe tbody tr th:only-of-type {\n",
              "        vertical-align: middle;\n",
              "    }\n",
              "\n",
              "    .dataframe tbody tr th {\n",
              "        vertical-align: top;\n",
              "    }\n",
              "\n",
              "    .dataframe thead th {\n",
              "        text-align: right;\n",
              "    }\n",
              "</style>\n",
              "<table border=\"1\" class=\"dataframe\">\n",
              "  <thead>\n",
              "    <tr style=\"text-align: right;\">\n",
              "      <th></th>\n",
              "      <th>color</th>\n",
              "      <th>fixed acidity</th>\n",
              "      <th>volatile acidity</th>\n",
              "      <th>citric acid</th>\n",
              "      <th>residual sugar</th>\n",
              "      <th>chlorides</th>\n",
              "      <th>free sulfur dioxide</th>\n",
              "      <th>total sulfur dioxide</th>\n",
              "      <th>density</th>\n",
              "      <th>pH</th>\n",
              "      <th>sulphates</th>\n",
              "      <th>alcohol</th>\n",
              "      <th>quality</th>\n",
              "    </tr>\n",
              "  </thead>\n",
              "  <tbody>\n",
              "    <tr>\n",
              "      <th>0</th>\n",
              "      <td>red</td>\n",
              "      <td>0.486111</td>\n",
              "      <td>0.810458</td>\n",
              "      <td>0.000000</td>\n",
              "      <td>0.072626</td>\n",
              "      <td>0.424051</td>\n",
              "      <td>0.121951</td>\n",
              "      <td>0.101449</td>\n",
              "      <td>0.690123</td>\n",
              "      <td>0.795699</td>\n",
              "      <td>0.447368</td>\n",
              "      <td>0.176991</td>\n",
              "      <td>0.25</td>\n",
              "    </tr>\n",
              "    <tr>\n",
              "      <th>1</th>\n",
              "      <td>red</td>\n",
              "      <td>0.541667</td>\n",
              "      <td>0.888889</td>\n",
              "      <td>0.054054</td>\n",
              "      <td>0.094972</td>\n",
              "      <td>0.525316</td>\n",
              "      <td>0.170732</td>\n",
              "      <td>0.173913</td>\n",
              "      <td>0.638476</td>\n",
              "      <td>0.526882</td>\n",
              "      <td>0.565789</td>\n",
              "      <td>0.247788</td>\n",
              "      <td>0.25</td>\n",
              "    </tr>\n",
              "    <tr>\n",
              "      <th>2</th>\n",
              "      <td>red</td>\n",
              "      <td>0.486111</td>\n",
              "      <td>0.758170</td>\n",
              "      <td>0.000000</td>\n",
              "      <td>0.067039</td>\n",
              "      <td>0.417722</td>\n",
              "      <td>0.146341</td>\n",
              "      <td>0.123188</td>\n",
              "      <td>0.690123</td>\n",
              "      <td>0.795699</td>\n",
              "      <td>0.447368</td>\n",
              "      <td>0.176991</td>\n",
              "      <td>0.25</td>\n",
              "    </tr>\n",
              "    <tr>\n",
              "      <th>3</th>\n",
              "      <td>red</td>\n",
              "      <td>0.555556</td>\n",
              "      <td>0.679739</td>\n",
              "      <td>0.081081</td>\n",
              "      <td>0.055866</td>\n",
              "      <td>0.379747</td>\n",
              "      <td>0.170732</td>\n",
              "      <td>0.192029</td>\n",
              "      <td>0.599742</td>\n",
              "      <td>0.569892</td>\n",
              "      <td>0.315789</td>\n",
              "      <td>0.176991</td>\n",
              "      <td>0.25</td>\n",
              "    </tr>\n",
              "    <tr>\n",
              "      <th>4</th>\n",
              "      <td>red</td>\n",
              "      <td>0.472222</td>\n",
              "      <td>0.745098</td>\n",
              "      <td>0.000000</td>\n",
              "      <td>0.033520</td>\n",
              "      <td>0.354430</td>\n",
              "      <td>0.170732</td>\n",
              "      <td>0.054348</td>\n",
              "      <td>0.483538</td>\n",
              "      <td>0.666667</td>\n",
              "      <td>0.328947</td>\n",
              "      <td>0.283186</td>\n",
              "      <td>0.75</td>\n",
              "    </tr>\n",
              "    <tr>\n",
              "      <th>...</th>\n",
              "      <td>...</td>\n",
              "      <td>...</td>\n",
              "      <td>...</td>\n",
              "      <td>...</td>\n",
              "      <td>...</td>\n",
              "      <td>...</td>\n",
              "      <td>...</td>\n",
              "      <td>...</td>\n",
              "      <td>...</td>\n",
              "      <td>...</td>\n",
              "      <td>...</td>\n",
              "      <td>...</td>\n",
              "      <td>...</td>\n",
              "    </tr>\n",
              "    <tr>\n",
              "      <th>4864</th>\n",
              "      <td>white</td>\n",
              "      <td>0.319444</td>\n",
              "      <td>0.169935</td>\n",
              "      <td>0.391892</td>\n",
              "      <td>0.055866</td>\n",
              "      <td>0.189873</td>\n",
              "      <td>0.280488</td>\n",
              "      <td>0.311594</td>\n",
              "      <td>0.260168</td>\n",
              "      <td>0.537634</td>\n",
              "      <td>0.368421</td>\n",
              "      <td>0.495575</td>\n",
              "      <td>0.50</td>\n",
              "    </tr>\n",
              "    <tr>\n",
              "      <th>4865</th>\n",
              "      <td>white</td>\n",
              "      <td>0.375000</td>\n",
              "      <td>0.313725</td>\n",
              "      <td>0.486486</td>\n",
              "      <td>0.413408</td>\n",
              "      <td>0.240506</td>\n",
              "      <td>0.682927</td>\n",
              "      <td>0.586957</td>\n",
              "      <td>0.502905</td>\n",
              "      <td>0.408602</td>\n",
              "      <td>0.315789</td>\n",
              "      <td>0.212389</td>\n",
              "      <td>0.25</td>\n",
              "    </tr>\n",
              "    <tr>\n",
              "      <th>4866</th>\n",
              "      <td>white</td>\n",
              "      <td>0.361111</td>\n",
              "      <td>0.209150</td>\n",
              "      <td>0.256757</td>\n",
              "      <td>0.033520</td>\n",
              "      <td>0.202532</td>\n",
              "      <td>0.353659</td>\n",
              "      <td>0.380435</td>\n",
              "      <td>0.350549</td>\n",
              "      <td>0.236559</td>\n",
              "      <td>0.315789</td>\n",
              "      <td>0.176991</td>\n",
              "      <td>0.50</td>\n",
              "    </tr>\n",
              "    <tr>\n",
              "      <th>4867</th>\n",
              "      <td>white</td>\n",
              "      <td>0.222222</td>\n",
              "      <td>0.274510</td>\n",
              "      <td>0.405405</td>\n",
              "      <td>0.027933</td>\n",
              "      <td>0.082278</td>\n",
              "      <td>0.231707</td>\n",
              "      <td>0.376812</td>\n",
              "      <td>0.102001</td>\n",
              "      <td>0.612903</td>\n",
              "      <td>0.210526</td>\n",
              "      <td>0.778761</td>\n",
              "      <td>0.75</td>\n",
              "    </tr>\n",
              "    <tr>\n",
              "      <th>4868</th>\n",
              "      <td>white</td>\n",
              "      <td>0.291667</td>\n",
              "      <td>0.169935</td>\n",
              "      <td>0.513514</td>\n",
              "      <td>0.011173</td>\n",
              "      <td>0.069620</td>\n",
              "      <td>0.256098</td>\n",
              "      <td>0.333333</td>\n",
              "      <td>0.148483</td>\n",
              "      <td>0.526882</td>\n",
              "      <td>0.131579</td>\n",
              "      <td>0.601770</td>\n",
              "      <td>0.50</td>\n",
              "    </tr>\n",
              "  </tbody>\n",
              "</table>\n",
              "<p>4869 rows × 13 columns</p>\n",
              "</div>\n",
              "      <button class=\"colab-df-convert\" onclick=\"convertToInteractive('df-83007368-d7bf-4ff5-97c1-6968d14db4fc')\"\n",
              "              title=\"Convert this dataframe to an interactive table.\"\n",
              "              style=\"display:none;\">\n",
              "        \n",
              "  <svg xmlns=\"http://www.w3.org/2000/svg\" height=\"24px\"viewBox=\"0 0 24 24\"\n",
              "       width=\"24px\">\n",
              "    <path d=\"M0 0h24v24H0V0z\" fill=\"none\"/>\n",
              "    <path d=\"M18.56 5.44l.94 2.06.94-2.06 2.06-.94-2.06-.94-.94-2.06-.94 2.06-2.06.94zm-11 1L8.5 8.5l.94-2.06 2.06-.94-2.06-.94L8.5 2.5l-.94 2.06-2.06.94zm10 10l.94 2.06.94-2.06 2.06-.94-2.06-.94-.94-2.06-.94 2.06-2.06.94z\"/><path d=\"M17.41 7.96l-1.37-1.37c-.4-.4-.92-.59-1.43-.59-.52 0-1.04.2-1.43.59L10.3 9.45l-7.72 7.72c-.78.78-.78 2.05 0 2.83L4 21.41c.39.39.9.59 1.41.59.51 0 1.02-.2 1.41-.59l7.78-7.78 2.81-2.81c.8-.78.8-2.07 0-2.86zM5.41 20L4 18.59l7.72-7.72 1.47 1.35L5.41 20z\"/>\n",
              "  </svg>\n",
              "      </button>\n",
              "      \n",
              "  <style>\n",
              "    .colab-df-container {\n",
              "      display:flex;\n",
              "      flex-wrap:wrap;\n",
              "      gap: 12px;\n",
              "    }\n",
              "\n",
              "    .colab-df-convert {\n",
              "      background-color: #E8F0FE;\n",
              "      border: none;\n",
              "      border-radius: 50%;\n",
              "      cursor: pointer;\n",
              "      display: none;\n",
              "      fill: #1967D2;\n",
              "      height: 32px;\n",
              "      padding: 0 0 0 0;\n",
              "      width: 32px;\n",
              "    }\n",
              "\n",
              "    .colab-df-convert:hover {\n",
              "      background-color: #E2EBFA;\n",
              "      box-shadow: 0px 1px 2px rgba(60, 64, 67, 0.3), 0px 1px 3px 1px rgba(60, 64, 67, 0.15);\n",
              "      fill: #174EA6;\n",
              "    }\n",
              "\n",
              "    [theme=dark] .colab-df-convert {\n",
              "      background-color: #3B4455;\n",
              "      fill: #D2E3FC;\n",
              "    }\n",
              "\n",
              "    [theme=dark] .colab-df-convert:hover {\n",
              "      background-color: #434B5C;\n",
              "      box-shadow: 0px 1px 3px 1px rgba(0, 0, 0, 0.15);\n",
              "      filter: drop-shadow(0px 1px 2px rgba(0, 0, 0, 0.3));\n",
              "      fill: #FFFFFF;\n",
              "    }\n",
              "  </style>\n",
              "\n",
              "      <script>\n",
              "        const buttonEl =\n",
              "          document.querySelector('#df-83007368-d7bf-4ff5-97c1-6968d14db4fc button.colab-df-convert');\n",
              "        buttonEl.style.display =\n",
              "          google.colab.kernel.accessAllowed ? 'block' : 'none';\n",
              "\n",
              "        async function convertToInteractive(key) {\n",
              "          const element = document.querySelector('#df-83007368-d7bf-4ff5-97c1-6968d14db4fc');\n",
              "          const dataTable =\n",
              "            await google.colab.kernel.invokeFunction('convertToInteractive',\n",
              "                                                     [key], {});\n",
              "          if (!dataTable) return;\n",
              "\n",
              "          const docLinkHtml = 'Like what you see? Visit the ' +\n",
              "            '<a target=\"_blank\" href=https://colab.research.google.com/notebooks/data_table.ipynb>data table notebook</a>'\n",
              "            + ' to learn more about interactive tables.';\n",
              "          element.innerHTML = '';\n",
              "          dataTable['output_type'] = 'display_data';\n",
              "          await google.colab.output.renderOutput(dataTable, element);\n",
              "          const docLink = document.createElement('div');\n",
              "          docLink.innerHTML = docLinkHtml;\n",
              "          element.appendChild(docLink);\n",
              "        }\n",
              "      </script>\n",
              "    </div>\n",
              "  </div>\n",
              "  "
            ]
          },
          "metadata": {},
          "execution_count": 56
        }
      ]
    },
    {
      "cell_type": "markdown",
      "source": [
        "Since the k-Means algorithm is a distance-based algorithm, we need to normalize the dataset to ensure that each data is using the same scale and variance."
      ],
      "metadata": {
        "id": "f6EsYltUCJ7n"
      }
    },
    {
      "cell_type": "markdown",
      "source": [
        "### Clustering using k-Means Algorithm\n",
        "Get the best value for k first to know what is the optimal number of clusters"
      ],
      "metadata": {
        "id": "Dx75sX6RC3aj"
      }
    },
    {
      "cell_type": "code",
      "source": [
        "# getting best k-value\n",
        "from sklearn.metrics import silhouette_score\n",
        "from sklearn.cluster import KMeans\n",
        "\n",
        "# Drop non-numeric columns\n",
        "numcols = filtered_df.select_dtypes(include=np.number).columns.tolist()\n",
        "num_df = filtered_df[numcols]\n",
        "\n",
        "# Standardize the data\n",
        "from sklearn.preprocessing import StandardScaler\n",
        "scaler = StandardScaler()\n",
        "standard_df = scaler.fit_transform(num_df)\n",
        "\n",
        "# Silhouette method to determine the optimal number of clusters\n",
        "silhouette_scores = []\n",
        "for n_cluster in range(2, 11):\n",
        "    silhouette_scores.append(silhouette_score(standard_df, KMeans(n_clusters=n_cluster).fit_predict(standard_df)))\n",
        "    \n",
        "# Silhouette scores\n",
        "for i, score in enumerate(silhouette_scores):\n",
        "    print(f\"Number of clusters = {i+2}, silhouette score = {score:.2f}\")\n",
        "\n",
        "# Plot silhouette scores\n",
        "plt.plot(range(2, 11), silhouette_scores)\n",
        "plt.xlabel('Number of clusters')\n",
        "plt.ylabel('Silhouette score')\n",
        "plt.show()"
      ],
      "metadata": {
        "colab": {
          "base_uri": "https://localhost:8080/",
          "height": 933
        },
        "id": "ylFRwbI4HoIW",
        "outputId": "f4d4d403-c2ad-421e-c47b-f8b5889705e1"
      },
      "execution_count": 57,
      "outputs": [
        {
          "output_type": "stream",
          "name": "stderr",
          "text": [
            "/usr/local/lib/python3.9/dist-packages/sklearn/cluster/_kmeans.py:870: FutureWarning: The default value of `n_init` will change from 10 to 'auto' in 1.4. Set the value of `n_init` explicitly to suppress the warning\n",
            "  warnings.warn(\n",
            "/usr/local/lib/python3.9/dist-packages/sklearn/cluster/_kmeans.py:870: FutureWarning: The default value of `n_init` will change from 10 to 'auto' in 1.4. Set the value of `n_init` explicitly to suppress the warning\n",
            "  warnings.warn(\n",
            "/usr/local/lib/python3.9/dist-packages/sklearn/cluster/_kmeans.py:870: FutureWarning: The default value of `n_init` will change from 10 to 'auto' in 1.4. Set the value of `n_init` explicitly to suppress the warning\n",
            "  warnings.warn(\n",
            "/usr/local/lib/python3.9/dist-packages/sklearn/cluster/_kmeans.py:870: FutureWarning: The default value of `n_init` will change from 10 to 'auto' in 1.4. Set the value of `n_init` explicitly to suppress the warning\n",
            "  warnings.warn(\n",
            "/usr/local/lib/python3.9/dist-packages/sklearn/cluster/_kmeans.py:870: FutureWarning: The default value of `n_init` will change from 10 to 'auto' in 1.4. Set the value of `n_init` explicitly to suppress the warning\n",
            "  warnings.warn(\n",
            "/usr/local/lib/python3.9/dist-packages/sklearn/cluster/_kmeans.py:870: FutureWarning: The default value of `n_init` will change from 10 to 'auto' in 1.4. Set the value of `n_init` explicitly to suppress the warning\n",
            "  warnings.warn(\n",
            "/usr/local/lib/python3.9/dist-packages/sklearn/cluster/_kmeans.py:870: FutureWarning: The default value of `n_init` will change from 10 to 'auto' in 1.4. Set the value of `n_init` explicitly to suppress the warning\n",
            "  warnings.warn(\n",
            "/usr/local/lib/python3.9/dist-packages/sklearn/cluster/_kmeans.py:870: FutureWarning: The default value of `n_init` will change from 10 to 'auto' in 1.4. Set the value of `n_init` explicitly to suppress the warning\n",
            "  warnings.warn(\n",
            "/usr/local/lib/python3.9/dist-packages/sklearn/cluster/_kmeans.py:870: FutureWarning: The default value of `n_init` will change from 10 to 'auto' in 1.4. Set the value of `n_init` explicitly to suppress the warning\n",
            "  warnings.warn(\n"
          ]
        },
        {
          "output_type": "stream",
          "name": "stdout",
          "text": [
            "Number of clusters = 2, silhouette score = 0.26\n",
            "Number of clusters = 3, silhouette score = 0.22\n",
            "Number of clusters = 4, silhouette score = 0.17\n",
            "Number of clusters = 5, silhouette score = 0.17\n",
            "Number of clusters = 6, silhouette score = 0.17\n",
            "Number of clusters = 7, silhouette score = 0.16\n",
            "Number of clusters = 8, silhouette score = 0.15\n",
            "Number of clusters = 9, silhouette score = 0.13\n",
            "Number of clusters = 10, silhouette score = 0.12\n"
          ]
        },
        {
          "output_type": "display_data",
          "data": {
            "text/plain": [
              "<Figure size 640x480 with 1 Axes>"
            ],
            "image/png": "[encoded data removed]"
          },
          "metadata": {}
        }
      ]
    },
    {
      "cell_type": "markdown",
      "source": [
        "The best K-value would be the one with the highest silhouette score. As seen in the plot, K=2 has the best silhouette score. Therefore, the k-Means algorithm will use k=2."
      ],
      "metadata": {
        "id": "XxdNBPXaZx9G"
      }
    },
    {
      "cell_type": "code",
      "source": [
        "# k-Means Algorithm\n",
        "from kmeans import KMeans\n",
        "cluster_count = 2\n",
        "kmeans = KMeans(cluster_count, 1, 13, 4869, filtered_df)\n",
        "kmeans.initialize_centroids(filtered_df)"
      ],
      "metadata": {
        "colab": {
          "base_uri": "https://localhost:8080/",
          "height": 263
        },
        "id": "n9cRrityC5qH",
        "outputId": "3e7b5663-dd2f-4843-e4a1-7d4b317d4ad1"
      },
      "execution_count": 58,
      "outputs": [
        {
          "output_type": "stream",
          "name": "stderr",
          "text": [
            "/content/kmeans.py:54: FutureWarning: The frame.append method is deprecated and will be removed from pandas in a future version. Use pandas.concat instead.\n",
            "  self.centroids = self.centroids.append(point, ignore_index=True)\n",
            "/content/kmeans.py:66: FutureWarning: The frame.append method is deprecated and will be removed from pandas in a future version. Use pandas.concat instead.\n",
            "  self.centroids = self.centroids.append(point, ignore_index=True)\n"
          ]
        },
        {
          "output_type": "execute_result",
          "data": {
            "text/plain": [
              "   fixed acidity  volatile acidity  citric acid  residual sugar  chlorides  \\\n",
              "0       0.430556          0.790850          0.0        0.072626   0.367089   \n",
              "1       0.555556          0.104575          1.0        0.963687   0.177215   \n",
              "\n",
              "   free sulfur dioxide  total sulfur dioxide   density        pH  sulphates  \\\n",
              "0             0.475610              0.206522  0.696578  0.892473   0.776316   \n",
              "1             0.621951              0.655797  0.819238  0.236559   0.250000   \n",
              "\n",
              "    alcohol  quality  \n",
              "0  0.265487     0.25  \n",
              "1  0.159292     0.25  "
            ],
            "text/html": [
              "\n",
              "  <div id=\"df-22f02d84-d210-4e62-bb9a-b17737a2db7b\">\n",
              "    <div class=\"colab-df-container\">\n",
              "      <div>\n",
              "<style scoped>\n",
              "    .dataframe tbody tr th:only-of-type {\n",
              "        vertical-align: middle;\n",
              "    }\n",
              "\n",
              "    .dataframe tbody tr th {\n",
              "        vertical-align: top;\n",
              "    }\n",
              "\n",
              "    .dataframe thead th {\n",
              "        text-align: right;\n",
              "    }\n",
              "</style>\n",
              "<table border=\"1\" class=\"dataframe\">\n",
              "  <thead>\n",
              "    <tr style=\"text-align: right;\">\n",
              "      <th></th>\n",
              "      <th>fixed acidity</th>\n",
              "      <th>volatile acidity</th>\n",
              "      <th>citric acid</th>\n",
              "      <th>residual sugar</th>\n",
              "      <th>chlorides</th>\n",
              "      <th>free sulfur dioxide</th>\n",
              "      <th>total sulfur dioxide</th>\n",
              "      <th>density</th>\n",
              "      <th>pH</th>\n",
              "      <th>sulphates</th>\n",
              "      <th>alcohol</th>\n",
              "      <th>quality</th>\n",
              "    </tr>\n",
              "  </thead>\n",
              "  <tbody>\n",
              "    <tr>\n",
              "      <th>0</th>\n",
              "      <td>0.430556</td>\n",
              "      <td>0.790850</td>\n",
              "      <td>0.0</td>\n",
              "      <td>0.072626</td>\n",
              "      <td>0.367089</td>\n",
              "      <td>0.475610</td>\n",
              "      <td>0.206522</td>\n",
              "      <td>0.696578</td>\n",
              "      <td>0.892473</td>\n",
              "      <td>0.776316</td>\n",
              "      <td>0.265487</td>\n",
              "      <td>0.25</td>\n",
              "    </tr>\n",
              "    <tr>\n",
              "      <th>1</th>\n",
              "      <td>0.555556</td>\n",
              "      <td>0.104575</td>\n",
              "      <td>1.0</td>\n",
              "      <td>0.963687</td>\n",
              "      <td>0.177215</td>\n",
              "      <td>0.621951</td>\n",
              "      <td>0.655797</td>\n",
              "      <td>0.819238</td>\n",
              "      <td>0.236559</td>\n",
              "      <td>0.250000</td>\n",
              "      <td>0.159292</td>\n",
              "      <td>0.25</td>\n",
              "    </tr>\n",
              "  </tbody>\n",
              "</table>\n",
              "</div>\n",
              "      <button class=\"colab-df-convert\" onclick=\"convertToInteractive('df-22f02d84-d210-4e62-bb9a-b17737a2db7b')\"\n",
              "              title=\"Convert this dataframe to an interactive table.\"\n",
              "              style=\"display:none;\">\n",
              "        \n",
              "  <svg xmlns=\"http://www.w3.org/2000/svg\" height=\"24px\"viewBox=\"0 0 24 24\"\n",
              "       width=\"24px\">\n",
              "    <path d=\"M0 0h24v24H0V0z\" fill=\"none\"/>\n",
              "    <path d=\"M18.56 5.44l.94 2.06.94-2.06 2.06-.94-2.06-.94-.94-2.06-.94 2.06-2.06.94zm-11 1L8.5 8.5l.94-2.06 2.06-.94-2.06-.94L8.5 2.5l-.94 2.06-2.06.94zm10 10l.94 2.06.94-2.06 2.06-.94-2.06-.94-.94-2.06-.94 2.06-2.06.94z\"/><path d=\"M17.41 7.96l-1.37-1.37c-.4-.4-.92-.59-1.43-.59-.52 0-1.04.2-1.43.59L10.3 9.45l-7.72 7.72c-.78.78-.78 2.05 0 2.83L4 21.41c.39.39.9.59 1.41.59.51 0 1.02-.2 1.41-.59l7.78-7.78 2.81-2.81c.8-.78.8-2.07 0-2.86zM5.41 20L4 18.59l7.72-7.72 1.47 1.35L5.41 20z\"/>\n",
              "  </svg>\n",
              "      </button>\n",
              "      \n",
              "  <style>\n",
              "    .colab-df-container {\n",
              "      display:flex;\n",
              "      flex-wrap:wrap;\n",
              "      gap: 12px;\n",
              "    }\n",
              "\n",
              "    .colab-df-convert {\n",
              "      background-color: #E8F0FE;\n",
              "      border: none;\n",
              "      border-radius: 50%;\n",
              "      cursor: pointer;\n",
              "      display: none;\n",
              "      fill: #1967D2;\n",
              "      height: 32px;\n",
              "      padding: 0 0 0 0;\n",
              "      width: 32px;\n",
              "    }\n",
              "\n",
              "    .colab-df-convert:hover {\n",
              "      background-color: #E2EBFA;\n",
              "      box-shadow: 0px 1px 2px rgba(60, 64, 67, 0.3), 0px 1px 3px 1px rgba(60, 64, 67, 0.15);\n",
              "      fill: #174EA6;\n",
              "    }\n",
              "\n",
              "    [theme=dark] .colab-df-convert {\n",
              "      background-color: #3B4455;\n",
              "      fill: #D2E3FC;\n",
              "    }\n",
              "\n",
              "    [theme=dark] .colab-df-convert:hover {\n",
              "      background-color: #434B5C;\n",
              "      box-shadow: 0px 1px 3px 1px rgba(0, 0, 0, 0.15);\n",
              "      filter: drop-shadow(0px 1px 2px rgba(0, 0, 0, 0.3));\n",
              "      fill: #FFFFFF;\n",
              "    }\n",
              "  </style>\n",
              "\n",
              "      <script>\n",
              "        const buttonEl =\n",
              "          document.querySelector('#df-22f02d84-d210-4e62-bb9a-b17737a2db7b button.colab-df-convert');\n",
              "        buttonEl.style.display =\n",
              "          google.colab.kernel.accessAllowed ? 'block' : 'none';\n",
              "\n",
              "        async function convertToInteractive(key) {\n",
              "          const element = document.querySelector('#df-22f02d84-d210-4e62-bb9a-b17737a2db7b');\n",
              "          const dataTable =\n",
              "            await google.colab.kernel.invokeFunction('convertToInteractive',\n",
              "                                                     [key], {});\n",
              "          if (!dataTable) return;\n",
              "\n",
              "          const docLinkHtml = 'Like what you see? Visit the ' +\n",
              "            '<a target=\"_blank\" href=https://colab.research.google.com/notebooks/data_table.ipynb>data table notebook</a>'\n",
              "            + ' to learn more about interactive tables.';\n",
              "          element.innerHTML = '';\n",
              "          dataTable['output_type'] = 'display_data';\n",
              "          await google.colab.output.renderOutput(dataTable, element);\n",
              "          const docLink = document.createElement('div');\n",
              "          docLink.innerHTML = docLinkHtml;\n",
              "          element.appendChild(docLink);\n",
              "        }\n",
              "      </script>\n",
              "    </div>\n",
              "  </div>\n",
              "  "
            ]
          },
          "metadata": {},
          "execution_count": 58
        }
      ]
    },
    {
      "cell_type": "markdown",
      "source": [
        "Using train() from KMeans and assigning it to \"groups\" to represent the final clusters of each data point in the dataset. The function stops when: \n",
        "- The values of the centroids do not change.\n",
        "- The clusters of each data point do not change.\n",
        "- The maximum number of iterations is met."
      ],
      "metadata": {
        "id": "2h0GP0t5vtZx"
      }
    },
    {
      "cell_type": "code",
      "source": [
        "groups = kmeans.train(filtered_df, 300)"
      ],
      "metadata": {
        "colab": {
          "base_uri": "https://localhost:8080/"
        },
        "id": "2OcfGLrpKFS5",
        "outputId": "1c56fd81-2a6c-4d78-833e-fd30ac1cb248"
      },
      "execution_count": 59,
      "outputs": [
        {
          "output_type": "stream",
          "name": "stderr",
          "text": [
            "/content/kmeans.py:140: FutureWarning: The default value of numeric_only in DataFrameGroupBy.mean is deprecated. In a future version, numeric_only will default to False. Either specify numeric_only or select only columns which should be valid for the function.\n",
            "  grouped_data = grouped_data.groupby(['group'], as_index=False).mean()\n",
            "/content/kmeans.py:140: FutureWarning: The default value of numeric_only in DataFrameGroupBy.mean is deprecated. In a future version, numeric_only will default to False. Either specify numeric_only or select only columns which should be valid for the function.\n",
            "  grouped_data = grouped_data.groupby(['group'], as_index=False).mean()\n",
            "/content/kmeans.py:140: FutureWarning: The default value of numeric_only in DataFrameGroupBy.mean is deprecated. In a future version, numeric_only will default to False. Either specify numeric_only or select only columns which should be valid for the function.\n",
            "  grouped_data = grouped_data.groupby(['group'], as_index=False).mean()\n",
            "/content/kmeans.py:140: FutureWarning: The default value of numeric_only in DataFrameGroupBy.mean is deprecated. In a future version, numeric_only will default to False. Either specify numeric_only or select only columns which should be valid for the function.\n",
            "  grouped_data = grouped_data.groupby(['group'], as_index=False).mean()\n",
            "/content/kmeans.py:140: FutureWarning: The default value of numeric_only in DataFrameGroupBy.mean is deprecated. In a future version, numeric_only will default to False. Either specify numeric_only or select only columns which should be valid for the function.\n",
            "  grouped_data = grouped_data.groupby(['group'], as_index=False).mean()\n",
            "/content/kmeans.py:140: FutureWarning: The default value of numeric_only in DataFrameGroupBy.mean is deprecated. In a future version, numeric_only will default to False. Either specify numeric_only or select only columns which should be valid for the function.\n",
            "  grouped_data = grouped_data.groupby(['group'], as_index=False).mean()\n",
            "/content/kmeans.py:140: FutureWarning: The default value of numeric_only in DataFrameGroupBy.mean is deprecated. In a future version, numeric_only will default to False. Either specify numeric_only or select only columns which should be valid for the function.\n",
            "  grouped_data = grouped_data.groupby(['group'], as_index=False).mean()\n",
            "/content/kmeans.py:140: FutureWarning: The default value of numeric_only in DataFrameGroupBy.mean is deprecated. In a future version, numeric_only will default to False. Either specify numeric_only or select only columns which should be valid for the function.\n",
            "  grouped_data = grouped_data.groupby(['group'], as_index=False).mean()\n",
            "/content/kmeans.py:140: FutureWarning: The default value of numeric_only in DataFrameGroupBy.mean is deprecated. In a future version, numeric_only will default to False. Either specify numeric_only or select only columns which should be valid for the function.\n",
            "  grouped_data = grouped_data.groupby(['group'], as_index=False).mean()\n",
            "/content/kmeans.py:140: FutureWarning: The default value of numeric_only in DataFrameGroupBy.mean is deprecated. In a future version, numeric_only will default to False. Either specify numeric_only or select only columns which should be valid for the function.\n",
            "  grouped_data = grouped_data.groupby(['group'], as_index=False).mean()\n"
          ]
        },
        {
          "output_type": "stream",
          "name": "stdout",
          "text": [
            "Iteration 1\n",
            "Iteration 2\n",
            "Iteration 3\n",
            "Iteration 4\n",
            "Iteration 5\n",
            "Iteration 6\n",
            "Iteration 7\n",
            "Iteration 8\n",
            "Iteration 9\n",
            "Iteration 10\n",
            "Iteration 11\n",
            "Iteration 12\n",
            "Done clustering!\n"
          ]
        },
        {
          "output_type": "stream",
          "name": "stderr",
          "text": [
            "/content/kmeans.py:140: FutureWarning: The default value of numeric_only in DataFrameGroupBy.mean is deprecated. In a future version, numeric_only will default to False. Either specify numeric_only or select only columns which should be valid for the function.\n",
            "  grouped_data = grouped_data.groupby(['group'], as_index=False).mean()\n",
            "/content/kmeans.py:140: FutureWarning: The default value of numeric_only in DataFrameGroupBy.mean is deprecated. In a future version, numeric_only will default to False. Either specify numeric_only or select only columns which should be valid for the function.\n",
            "  grouped_data = grouped_data.groupby(['group'], as_index=False).mean()\n"
          ]
        }
      ]
    },
    {
      "cell_type": "markdown",
      "source": [
        "Print the information about the clusters."
      ],
      "metadata": {
        "id": "M6aDpqs_acZ4"
      }
    },
    {
      "cell_type": "code",
      "source": [
        "clusters = []\n",
        "for i in range(cluster_count):\n",
        "  x = filtered_df.loc[groups == i]\n",
        "  clusters.append(x)\n",
        "\n",
        "for i in range(cluster_count):\n",
        "  print(clusters[i].info())\n",
        "  print(\"red: \", len(clusters[i][clusters[i][\"color\"] == \"red\"]))\n",
        "  print(\"white: \", len(clusters[i][clusters[i][\"color\"] == \"white\"]))\n",
        "  print(\"-------------------------------------------------------\")"
      ],
      "metadata": {
        "id": "nNI1DA33NT9y",
        "colab": {
          "base_uri": "https://localhost:8080/"
        },
        "outputId": "5d3164c2-a0ae-4bcb-8b1c-e9af5344802d"
      },
      "execution_count": 60,
      "outputs": [
        {
          "output_type": "stream",
          "name": "stdout",
          "text": [
            "<class 'pandas.core.frame.DataFrame'>\n",
            "Int64Index: 3464 entries, 0 to 4868\n",
            "Data columns (total 13 columns):\n",
            " #   Column                Non-Null Count  Dtype  \n",
            "---  ------                --------------  -----  \n",
            " 0   color                 3464 non-null   object \n",
            " 1   fixed acidity         3464 non-null   float64\n",
            " 2   volatile acidity      3464 non-null   float64\n",
            " 3   citric acid           3464 non-null   float64\n",
            " 4   residual sugar        3464 non-null   float64\n",
            " 5   chlorides             3464 non-null   float64\n",
            " 6   free sulfur dioxide   3464 non-null   float64\n",
            " 7   total sulfur dioxide  3464 non-null   float64\n",
            " 8   density               3464 non-null   float64\n",
            " 9   pH                    3464 non-null   float64\n",
            " 10  sulphates             3464 non-null   float64\n",
            " 11  alcohol               3464 non-null   float64\n",
            " 12  quality               3464 non-null   float64\n",
            "dtypes: float64(12), object(1)\n",
            "memory usage: 378.9+ KB\n",
            "None\n",
            "red:  1073\n",
            "white:  2391\n",
            "-------------------------------------------------------\n",
            "<class 'pandas.core.frame.DataFrame'>\n",
            "Int64Index: 1405 entries, 23 to 4865\n",
            "Data columns (total 13 columns):\n",
            " #   Column                Non-Null Count  Dtype  \n",
            "---  ------                --------------  -----  \n",
            " 0   color                 1405 non-null   object \n",
            " 1   fixed acidity         1405 non-null   float64\n",
            " 2   volatile acidity      1405 non-null   float64\n",
            " 3   citric acid           1405 non-null   float64\n",
            " 4   residual sugar        1405 non-null   float64\n",
            " 5   chlorides             1405 non-null   float64\n",
            " 6   free sulfur dioxide   1405 non-null   float64\n",
            " 7   total sulfur dioxide  1405 non-null   float64\n",
            " 8   density               1405 non-null   float64\n",
            " 9   pH                    1405 non-null   float64\n",
            " 10  sulphates             1405 non-null   float64\n",
            " 11  alcohol               1405 non-null   float64\n",
            " 12  quality               1405 non-null   float64\n",
            "dtypes: float64(12), object(1)\n",
            "memory usage: 153.7+ KB\n",
            "None\n",
            "red:  13\n",
            "white:  1392\n",
            "-------------------------------------------------------\n"
          ]
        }
      ]
    },
    {
      "cell_type": "markdown",
      "source": [
        "# Statistical Inference\n",
        "We set up our hypotheses as follows:\n",
        "\n",
        "$H_0$ (null hypothesis): The true difference between the quality of red wine and white wine is 0.\n",
        "\n",
        "$H_A$ (alternative hypothesis): The true difference between the quality of red wine and white wine is not 0.\n",
        "\n",
        "\n"
      ],
      "metadata": {
        "id": "nQ9Pqbd7C61G"
      }
    },
    {
      "cell_type": "markdown",
      "source": [
        "### Hypothesis Testing - T-test using two sample means for each cluster"
      ],
      "metadata": {
        "id": "5LiD18t3zdYy"
      }
    },
    {
      "cell_type": "markdown",
      "source": [
        "This code gets the probability values of each cluster using T-Test for Two Means, then prints their values."
      ],
      "metadata": {
        "id": "SJ34xnfzzxQl"
      }
    },
    {
      "cell_type": "code",
      "source": [
        "from scipy.stats import ttest_ind\n",
        "\n",
        "ttest_value = []\n",
        "\n",
        "for i in range(cluster_count):\n",
        "  value = ttest_ind(clusters[i][clusters[i][\"color\"] == \"red\"][\"quality\"], \n",
        "                    clusters[i][clusters[i][\"color\"] == \"white\"][\"quality\"], \n",
        "                    equal_var = False)\n",
        "  ttest_value.append(value)\n",
        "\n",
        "\n",
        "for i in range(cluster_count):\n",
        "  print(\"Cluster \", i,\"p-value: \", ttest_value[i][1])\n"
      ],
      "metadata": {
        "id": "jCVOEYlWEhYA",
        "colab": {
          "base_uri": "https://localhost:8080/"
        },
        "outputId": "e23b49ce-5623-47bd-dd0f-75e9433ec48d"
      },
      "execution_count": 61,
      "outputs": [
        {
          "output_type": "stream",
          "name": "stdout",
          "text": [
            "Cluster  0 p-value:  5.32386669763585e-36\n",
            "Cluster  1 p-value:  0.17471389447215943\n"
          ]
        }
      ]
    },
    {
      "cell_type": "markdown",
      "source": [
        "# Insights and Conclusions\n",
        "What can you conclude based on the $p$-value under a 5% significance level?\n",
        "\n",
        "\n",
        "*   Cluster 0 has a p-value under 0.05 which means that it **rejects the null hypothesis** that the difference between red wine and white wine is 0.\n",
        "*   Cluster 1 has a p-value above 0.05 which accepts the null hypothesis, but an argument as to why this result should not be put into consideration is because there is significantly less red wine observations in comparison to white wine in this cluster.\n",
        "\n"
      ],
      "metadata": {
        "id": "9VB-OBZ_0UUt"
      }
    },
    {
      "cell_type": "markdown",
      "source": [
        "## Conclusion\n",
        "> Therefore, The study rejects the null hypothesis at the 5% significance level. There is sufficient evidence to support the claim that there is a true difference between the quality of red wine and white wine."
      ],
      "metadata": {
        "id": "w-k_4HWrgXeN"
      }
    },
    {
      "cell_type": "markdown",
      "source": [
        "## Insights\n",
        "\n",
        "\n",
        "*   Based on the results of phase 1, white wine has better quality than that of red wine.\n",
        "\n"
      ],
      "metadata": {
        "id": "ylr9ZOiR3_tb"
      }
    },
    {
      "cell_type": "markdown",
      "source": [
        "What were/ was your business question? \n",
        "\n",
        "\n",
        "> Which color of wine produced by the company has better quality? Depending on the results, market and support the wine which has better quality and further develop the other.\n",
        "\n",
        "Why did you perform this test? Why this test specifically? \n",
        "\n",
        "\n",
        "> T-test using two sample means was specifically used for this study. This is because this test determines if there is a significant difference between the means of two independent groups. In this case, it was used to determine if there is a significant difference in the quality of red wine and white for each cluster.\n",
        "\n",
        "\n",
        "What model did you choose and why is this model significant to your study? \n",
        "\n",
        "\n",
        "> The study used clustering using k-Means algorithm as its data modelling technique. This model was chosen mainly because of the structure of the dataset which is its physicochemical properties, the quality, and the color. Since the study aims to identify which wine has better overall quality, their quality scores was tested. However, there are many variables to still consider such as its physicochemical properties. In order to reduce the variability, clustering the dataset grouped similar observations together based on their physicochemical properties, which helped in identifying patterns and relationships in the data. In this case, clustering identified if there are distinct groups of red and white wine based on their physicochemical properties and quality ratings, and if there are different or consistent test results for each cluster.\n",
        "\n",
        "\n",
        "What is/ are the recommendation/s? Did your recommendation answer your business question? \n",
        "> Yes. The study answered the question and shows that white wine, during this period of time in the company, is better than their red wine.\n",
        "\n",
        "> When making a study such as this, it is important to use a dataset with a more or less equal amount of observations for better and more proper comparisons.\n",
        "\n",
        "\n"
      ],
      "metadata": {
        "id": "nRHEL1n1307C"
      }
    }
  ]
}